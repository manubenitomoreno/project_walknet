{
 "cells": [
  {
   "cell_type": "markdown",
   "metadata": {},
   "source": [
    "# Spanish Cadastral data ETL"
   ]
  },
  {
   "cell_type": "markdown",
   "metadata": {},
   "source": [
    "An example notebook on how I process cadastral info into relevant data for walknet project"
   ]
  },
  {
   "cell_type": "code",
   "execution_count": 1,
   "metadata": {},
   "outputs": [],
   "source": [
    "repos = r\"C:\\Users\\ManuBenito\\Documents\\GitHub\"\n",
    "import sys\n",
    "import os\n",
    "sys.path.append(repos)"
   ]
  },
  {
   "cell_type": "code",
   "execution_count": 2,
   "metadata": {},
   "outputs": [],
   "source": [
    "from walknet.sources.spain.landuse.catastro.modules.gatherer import *\n",
    "from walknet.sources.spain.landuse.catastro.modules.translator import *\n",
    "from walknet.sources.spain.landuse.catastro.modules.homogenizer import *"
   ]
  },
  {
   "cell_type": "markdown",
   "metadata": {},
   "source": [
    "**1- Data Gathering**"
   ]
  },
  {
   "cell_type": "markdown",
   "metadata": {},
   "source": [
    "- Build urls for the INSPIRE serivce, and download spatial data. We will stick to .geojson formats and address data in this project\n",
    "- Unfortunately, alphanumeric information associated to each municipality needs to be downloaded by hand\n",
    "- You should end up having a couple folders, one with spatial data and another with the .cat files you downloaded here"
   ]
  },
  {
   "cell_type": "code",
   "execution_count": 3,
   "metadata": {},
   "outputs": [],
   "source": [
    "PATH_LEVEL0 = r\"C:\\Users\\ManuBenito\\Documents\\Walknet-DataLake\\sources\\land\\spain\\catastro\\level0\""
   ]
  },
  {
   "cell_type": "code",
   "execution_count": 4,
   "metadata": {},
   "outputs": [],
   "source": [
    "#Madrid Metro Area\n",
    "#codes = [\"28005\", \"28006\", \"28007\", \"28022\", \"28026\", \"28045\", \"28049\", \"28058\", \"28065\", \"28073\", \"28074\", \"28080\", \"28084\", \"28092\", \"28104\", \"28106\", \"28113\", \"28115\", \"28127\", \"28130\", \"28134\", \"28148\", \"28167\", \"28176\", \"28177\", \"28181\", \"28184\", \"28900\"]\n",
    "codes = [\"28005\"]"
   ]
  },
  {
   "cell_type": "code",
   "execution_count": 5,
   "metadata": {},
   "outputs": [
    {
     "name": "stdout",
     "output_type": "stream",
     "text": [
      "Municipality 28005-ALCALA DE HENARES was successfully downloaded and processed\n"
     ]
    }
   ],
   "source": [
    "download_cadastral_data(codes, PATH_LEVEL0+r\"\\spatial\")"
   ]
  },
  {
   "cell_type": "markdown",
   "metadata": {},
   "source": [
    "**2- Data Translation:**"
   ]
  },
  {
   "cell_type": "markdown",
   "metadata": {},
   "source": [
    "- Process .CAT Files to obtain readable column names and data formats based on [this description](http://www.catastro.minhap.es/documentos/formatos_intercambio/catastro_fin_cat_2006.pdf)\n",
    "- Merge them with INSPIRE data. I will only use Addresses Points, but parcels and buildings could be also used\n",
    "- Map Land Use Codes and typology in order to better read and manage them"
   ]
  },
  {
   "cell_type": "code",
   "execution_count": 6,
   "metadata": {},
   "outputs": [
    {
     "ename": "FileNotFoundError",
     "evalue": "[WinError 3] El sistema no puede encontrar la ruta especificada: 'C:\\\\Users\\\\ManuBenito\\\\Documents\\\\Walknet-DataLake\\\\sources\\\\land\\\\spain\\\\catastro\\\\level0\\\\non-spatial'",
     "output_type": "error",
     "traceback": [
      "\u001b[1;31m---------------------------------------------------------------------------\u001b[0m",
      "\u001b[1;31mFileNotFoundError\u001b[0m                         Traceback (most recent call last)",
      "\u001b[1;32m<ipython-input-6-9bbdcd1d23f9>\u001b[0m in \u001b[0;36m<module>\u001b[1;34m\u001b[0m\n\u001b[1;32m----> 1\u001b[1;33m \u001b[0mgdfs\u001b[0m \u001b[1;33m=\u001b[0m \u001b[1;33m{\u001b[0m\u001b[0mcode\u001b[0m\u001b[1;33m:\u001b[0m \u001b[0mprocess_cadastral_data\u001b[0m\u001b[1;33m(\u001b[0m\u001b[0mPATH_LEVEL0\u001b[0m\u001b[1;33m,\u001b[0m \u001b[0mcode\u001b[0m\u001b[1;33m)\u001b[0m \u001b[1;32mfor\u001b[0m \u001b[0mcode\u001b[0m \u001b[1;32min\u001b[0m \u001b[0mcodes\u001b[0m\u001b[1;33m}\u001b[0m\u001b[1;33m\u001b[0m\u001b[1;33m\u001b[0m\u001b[0m\n\u001b[0m",
      "\u001b[1;32m<ipython-input-6-9bbdcd1d23f9>\u001b[0m in \u001b[0;36m<dictcomp>\u001b[1;34m(.0)\u001b[0m\n\u001b[1;32m----> 1\u001b[1;33m \u001b[0mgdfs\u001b[0m \u001b[1;33m=\u001b[0m \u001b[1;33m{\u001b[0m\u001b[0mcode\u001b[0m\u001b[1;33m:\u001b[0m \u001b[0mprocess_cadastral_data\u001b[0m\u001b[1;33m(\u001b[0m\u001b[0mPATH_LEVEL0\u001b[0m\u001b[1;33m,\u001b[0m \u001b[0mcode\u001b[0m\u001b[1;33m)\u001b[0m \u001b[1;32mfor\u001b[0m \u001b[0mcode\u001b[0m \u001b[1;32min\u001b[0m \u001b[0mcodes\u001b[0m\u001b[1;33m}\u001b[0m\u001b[1;33m\u001b[0m\u001b[1;33m\u001b[0m\u001b[0m\n\u001b[0m",
      "\u001b[1;32m~\\Documents\\GitHub\\walknet\\sources\\spain\\landuse\\catastro\\modules\\homogenizer.py\u001b[0m in \u001b[0;36mprocess_cadastral_data\u001b[1;34m(path, code, merge)\u001b[0m\n\u001b[0;32m    166\u001b[0m     \"\"\"\n\u001b[0;32m    167\u001b[0m     \u001b[0mmunicipality\u001b[0m \u001b[1;33m=\u001b[0m \u001b[0mfind_muni\u001b[0m\u001b[1;33m(\u001b[0m\u001b[0mcode\u001b[0m\u001b[1;33m)\u001b[0m\u001b[1;33m[\u001b[0m\u001b[1;36m1\u001b[0m\u001b[1;33m]\u001b[0m\u001b[1;33m\u001b[0m\u001b[1;33m\u001b[0m\u001b[0m\n\u001b[1;32m--> 168\u001b[1;33m     \u001b[0mcadastre_path\u001b[0m\u001b[1;33m,\u001b[0m \u001b[0maddresses_path\u001b[0m\u001b[1;33m,\u001b[0m \u001b[0mparcels_path\u001b[0m \u001b[1;33m=\u001b[0m \u001b[0mfiles_for_muni\u001b[0m\u001b[1;33m(\u001b[0m\u001b[0mcode\u001b[0m\u001b[1;33m,\u001b[0m \u001b[0mpath\u001b[0m\u001b[1;33m)\u001b[0m\u001b[1;33m\u001b[0m\u001b[1;33m\u001b[0m\u001b[0m\n\u001b[0m\u001b[0;32m    169\u001b[0m     \u001b[0mdf\u001b[0m \u001b[1;33m=\u001b[0m \u001b[0mopen_cat_file\u001b[0m\u001b[1;33m(\u001b[0m\u001b[0mcadastre_path\u001b[0m\u001b[1;33m)\u001b[0m\u001b[1;33m\u001b[0m\u001b[1;33m\u001b[0m\u001b[0m\n\u001b[0;32m    170\u001b[0m     \u001b[0mdf\u001b[0m \u001b[1;33m=\u001b[0m \u001b[0mcolumn_strategy\u001b[0m\u001b[1;33m(\u001b[0m\u001b[0mdf\u001b[0m\u001b[1;33m)\u001b[0m\u001b[1;33m\u001b[0m\u001b[1;33m\u001b[0m\u001b[0m\n",
      "\u001b[1;32m~\\Documents\\GitHub\\walknet\\sources\\spain\\landuse\\catastro\\modules\\homogenizer.py\u001b[0m in \u001b[0;36mfiles_for_muni\u001b[1;34m(code, path)\u001b[0m\n\u001b[0;32m     42\u001b[0m         \u001b[0mfile_code\u001b[0m \u001b[1;33m=\u001b[0m \u001b[1;34m\"_\"\u001b[0m\u001b[1;33m.\u001b[0m\u001b[0mjoin\u001b[0m\u001b[1;33m(\u001b[0m\u001b[1;33m[\u001b[0m\u001b[0mcode\u001b[0m\u001b[1;33m[\u001b[0m\u001b[1;36m0\u001b[0m\u001b[1;33m:\u001b[0m\u001b[1;36m2\u001b[0m\u001b[1;33m]\u001b[0m\u001b[1;33m,\u001b[0m\u001b[0mcode\u001b[0m\u001b[1;33m[\u001b[0m\u001b[1;36m2\u001b[0m\u001b[1;33m:\u001b[0m\u001b[1;33m]\u001b[0m\u001b[1;33m]\u001b[0m\u001b[1;33m)\u001b[0m\u001b[1;33m\u001b[0m\u001b[1;33m\u001b[0m\u001b[0m\n\u001b[0;32m     43\u001b[0m \u001b[1;33m\u001b[0m\u001b[0m\n\u001b[1;32m---> 44\u001b[1;33m     \u001b[0mcadastre_path\u001b[0m \u001b[1;33m=\u001b[0m \u001b[1;33m[\u001b[0m\u001b[0mos\u001b[0m\u001b[1;33m.\u001b[0m\u001b[0mpath\u001b[0m\u001b[1;33m.\u001b[0m\u001b[0mjoin\u001b[0m\u001b[1;33m(\u001b[0m\u001b[0mpath\u001b[0m\u001b[1;33m+\u001b[0m\u001b[1;34mr\"\\non-spatial\"\u001b[0m\u001b[1;33m,\u001b[0m \u001b[0mf\u001b[0m\u001b[1;33m)\u001b[0m \u001b[1;32mfor\u001b[0m \u001b[0mf\u001b[0m \u001b[1;32min\u001b[0m \u001b[0mos\u001b[0m\u001b[1;33m.\u001b[0m\u001b[0mlistdir\u001b[0m\u001b[1;33m(\u001b[0m\u001b[0mpath\u001b[0m\u001b[1;33m+\u001b[0m\u001b[1;34mr\"\\non-spatial\"\u001b[0m\u001b[1;33m)\u001b[0m \u001b[1;32mif\u001b[0m \u001b[0mfile_code\u001b[0m \u001b[1;32min\u001b[0m \u001b[0mf\u001b[0m \u001b[1;32mand\u001b[0m \u001b[0mf\u001b[0m\u001b[1;33m.\u001b[0m\u001b[0mendswith\u001b[0m\u001b[1;33m(\u001b[0m\u001b[1;34m\".CAT\"\u001b[0m\u001b[1;33m)\u001b[0m\u001b[1;33m]\u001b[0m\u001b[1;33m[\u001b[0m\u001b[1;36m0\u001b[0m\u001b[1;33m]\u001b[0m\u001b[1;33m\u001b[0m\u001b[1;33m\u001b[0m\u001b[0m\n\u001b[0m\u001b[0;32m     45\u001b[0m     \u001b[0maddresses_path\u001b[0m \u001b[1;33m=\u001b[0m \u001b[1;33m[\u001b[0m\u001b[0mos\u001b[0m\u001b[1;33m.\u001b[0m\u001b[0mpath\u001b[0m\u001b[1;33m.\u001b[0m\u001b[0mjoin\u001b[0m\u001b[1;33m(\u001b[0m\u001b[0mpath\u001b[0m\u001b[1;33m+\u001b[0m\u001b[1;34mr\"\\spatial\"\u001b[0m\u001b[1;33m,\u001b[0m \u001b[0mf\u001b[0m\u001b[1;33m)\u001b[0m \u001b[1;32mfor\u001b[0m \u001b[0mf\u001b[0m \u001b[1;32min\u001b[0m \u001b[0mos\u001b[0m\u001b[1;33m.\u001b[0m\u001b[0mlistdir\u001b[0m\u001b[1;33m(\u001b[0m\u001b[0mpath\u001b[0m\u001b[1;33m+\u001b[0m\u001b[1;34mr\"\\spatial\"\u001b[0m\u001b[1;33m)\u001b[0m \u001b[1;32mif\u001b[0m \u001b[0mcode\u001b[0m \u001b[1;32min\u001b[0m \u001b[0mf\u001b[0m \u001b[1;32mand\u001b[0m \u001b[1;34m\"addresses\"\u001b[0m \u001b[1;32min\u001b[0m \u001b[0mf\u001b[0m \u001b[1;32mand\u001b[0m \u001b[0mf\u001b[0m\u001b[1;33m.\u001b[0m\u001b[0mendswith\u001b[0m\u001b[1;33m(\u001b[0m\u001b[1;34m\".geojson\"\u001b[0m\u001b[1;33m)\u001b[0m\u001b[1;33m]\u001b[0m\u001b[1;33m[\u001b[0m\u001b[1;36m0\u001b[0m\u001b[1;33m]\u001b[0m\u001b[1;33m\u001b[0m\u001b[1;33m\u001b[0m\u001b[0m\n\u001b[0;32m     46\u001b[0m     \u001b[0mparcels_path\u001b[0m \u001b[1;33m=\u001b[0m \u001b[1;33m[\u001b[0m\u001b[0mos\u001b[0m\u001b[1;33m.\u001b[0m\u001b[0mpath\u001b[0m\u001b[1;33m.\u001b[0m\u001b[0mjoin\u001b[0m\u001b[1;33m(\u001b[0m\u001b[0mpath\u001b[0m\u001b[1;33m+\u001b[0m\u001b[1;34mr\"\\spatial\"\u001b[0m\u001b[1;33m,\u001b[0m \u001b[0mf\u001b[0m\u001b[1;33m)\u001b[0m \u001b[1;32mfor\u001b[0m \u001b[0mf\u001b[0m \u001b[1;32min\u001b[0m \u001b[0mos\u001b[0m\u001b[1;33m.\u001b[0m\u001b[0mlistdir\u001b[0m\u001b[1;33m(\u001b[0m\u001b[0mpath\u001b[0m\u001b[1;33m+\u001b[0m\u001b[1;34mr\"\\spatial\"\u001b[0m\u001b[1;33m)\u001b[0m \u001b[1;32mif\u001b[0m \u001b[0mcode\u001b[0m \u001b[1;32min\u001b[0m \u001b[0mf\u001b[0m \u001b[1;32mand\u001b[0m \u001b[1;34m\"cadastralparcel\"\u001b[0m \u001b[1;32min\u001b[0m \u001b[0mf\u001b[0m \u001b[1;32mand\u001b[0m \u001b[0mf\u001b[0m\u001b[1;33m.\u001b[0m\u001b[0mendswith\u001b[0m\u001b[1;33m(\u001b[0m\u001b[1;34m\".geojson\"\u001b[0m\u001b[1;33m)\u001b[0m\u001b[1;33m]\u001b[0m\u001b[1;33m[\u001b[0m\u001b[1;36m0\u001b[0m\u001b[1;33m]\u001b[0m\u001b[1;33m\u001b[0m\u001b[1;33m\u001b[0m\u001b[0m\n",
      "\u001b[1;31mFileNotFoundError\u001b[0m: [WinError 3] El sistema no puede encontrar la ruta especificada: 'C:\\\\Users\\\\ManuBenito\\\\Documents\\\\Walknet-DataLake\\\\sources\\\\land\\\\spain\\\\catastro\\\\level0\\\\non-spatial'"
     ]
    }
   ],
   "source": [
    "gdfs = {code: process_cadastral_data(PATH_LEVEL0, code) for code in codes}"
   ]
  },
  {
   "cell_type": "markdown",
   "metadata": {},
   "source": [
    "**2- Data Homogenization:**"
   ]
  },
  {
   "cell_type": "markdown",
   "metadata": {},
   "source": [
    "- Transform cadastral data into walknet REFERENCE points. This is, geo-points with embedded land use information normalized into walknet land use categories\n",
    "- In this source, maps combinations of different categorical levels of Land Use and Typology, in order to obtain different use units in a certain point of space"
   ]
  },
  {
   "cell_type": "code",
   "execution_count": null,
   "metadata": {},
   "outputs": [],
   "source": [
    "final = gdfs['28005'][['gml_id',\n",
    "     'Parcel Cadastral ID',\n",
    "     'Parcel Province Code','Parcel Province Name','Parcel Municipality Code Cadastre', 'Parcel Municipality Code INE','Parcel Municipality Name INE', 'Parcel Street Code', 'Parcel Street Class', 'Parcel Street Name','Parcel First Number', 'Parcel First Letter', 'Parcel Second Number','Parcel Second Letter',\n",
    "     'Parcel Area', 'Parcel Built Area', 'Parcel Built Area Above Ground','Parcel Built Area Under Ground', 'Parcel Built Area Under Cover',\n",
    "     'Building Code ID',\n",
    "     'Building Year Built', 'Building Accuracy Year Built',\n",
    "     'Property gml Number', 'Property gml_id',\n",
    "     'Property ID','Property Cadastral ID',\n",
    "     'Property First Control Character', 'Property Second Control Character','Property Number Cadastre', 'Property Number Municipality','Property Number Land Register',\n",
    "     'Property Street Code', 'Property Street Class', 'Property Street Name', 'Property First Number', 'Property First Letter', 'Property Second Number', 'Property Second Letter','Property Kilometric Point',\n",
    "     'Property Block', 'Property Stairway','Property Floor', 'Property Door Number', 'Property Order Number',\n",
    "     'Property Age', 'Property General Use','Property Land Use Level1',\n",
    "     'Property Built Area','Property Other Area (unbuilt or undivided)','Property Coefficient of property if common elements',\n",
    "     'Property Single or Multiple',\n",
    "     'Part Order Number',\n",
    "     'Part Block', 'Part Stairway', 'Part Floor', 'Part Door',\n",
    "     'Part Detailed Use', 'Part Land Use Level1', 'Part Land Use Level2',\n",
    "     'Part Renovation Kind', 'Part Renovation Year', 'Part Weighted Year',\n",
    "     'Part Is Interior', 'Part Is Common',\n",
    "     'Part Area in Cadastral Terms',\n",
    "     'Part Area in Terrace or Porch', 'Part Area in Other Floors',\n",
    "     'Part Typology', 'Part Typology Level1','Part Typology Level2', 'Part Typology Level3','geometry']]"
   ]
  },
  {
   "cell_type": "code",
   "execution_count": null,
   "metadata": {},
   "outputs": [],
   "source": [
    "final.columns"
   ]
  },
  {
   "cell_type": "code",
   "execution_count": null,
   "metadata": {},
   "outputs": [],
   "source": [
    "#We have built the corresponding category combinations in an auxiliary table\n",
    "relations = pd.read_excel(r\"C:\\Users\\ManuBenito\\Documents\\GitHub\\walknet\\sources\\spain\\landuse\\catastro\\metadata\\relations.xls\")"
   ]
  },
  {
   "cell_type": "code",
   "execution_count": null,
   "metadata": {},
   "outputs": [],
   "source": [
    "def apply_logic(df,combination,end_type,category):\n",
    "    combination.replace(np.nan,['no'])\n",
    "    df.loc[(df['Property Land Use Level1'].isin(combination_tuple[0]))&\n",
    "           (df['Part Typology Level1'].isin(combination_tuple[1]))&\n",
    "           (df['Part Typology Level2'].isin(combination_tuple[2]))&\n",
    "           (df['Part Typology Level3'].isin(combination_tuple[3]))&\n",
    "           (df['Part Land Use Level1'].isin(combination_tuple[4]))&\n",
    "           (df['Part Land Use Level2'].isin(combination_tuple[5])),'Walknet Category'] = end_type+\" - \"+category\n",
    "    return df"
   ]
  },
  {
   "cell_type": "code",
   "execution_count": null,
   "metadata": {},
   "outputs": [],
   "source": [
    "df = final"
   ]
  },
  {
   "cell_type": "code",
   "execution_count": null,
   "metadata": {},
   "outputs": [],
   "source": [
    "classes = ['Property Land Use Level1', 'Part Typology Level1', 'Part Typology Level2', 'Part Typology Level3', 'Part Land Use Level1', 'Part Land Use Level2']\n",
    "for column in classes:\n",
    "    relations.loc[~relations[column].isna(),column] = relations[column].str.split(\";\")"
   ]
  },
  {
   "cell_type": "code",
   "execution_count": null,
   "metadata": {},
   "outputs": [],
   "source": [
    "relations"
   ]
  },
  {
   "cell_type": "code",
   "execution_count": null,
   "metadata": {},
   "outputs": [],
   "source": [
    "for i,row in relations.iterrows():\n",
    "    combination = [row[col] for col in classes]\n",
    "    end_type = row['End Type']\n",
    "    category = row['Walknet Category']\n",
    "    apply_logic(df,combination,end_type,category)"
   ]
  },
  {
   "cell_type": "code",
   "execution_count": null,
   "metadata": {},
   "outputs": [],
   "source": [
    "relations"
   ]
  },
  {
   "cell_type": "code",
   "execution_count": null,
   "metadata": {},
   "outputs": [],
   "source": [
    "for end_type in [\"Origins\",\"Destinations\"]:\n",
    "    for category,combination in categories[end_type].items():\n",
    "        if isinstance(combination,list):\n",
    "            for case in combination:\n",
    "                apply_logic(gdf,case,end_type,category)\n",
    "        else:\n",
    "            print(combination)\n",
    "            apply_logic(gdf,combination,end_type,category)"
   ]
  },
  {
   "cell_type": "code",
   "execution_count": null,
   "metadata": {},
   "outputs": [],
   "source": [
    "final['Property Land Use Level1'].unique()"
   ]
  },
  {
   "cell_type": "code",
   "execution_count": null,
   "metadata": {},
   "outputs": [],
   "source": [
    "gdf.loc[~gdf['Part Detailed Use'].isin([\"EMS\",\"EBL\",\"ECL\",\"EBS\",\"EIN\",\"EUN\",\"EPR\",\"YGR\"]),\"Part Detailed Use\"] = gdf[\"Detailed Use\"].str[0]"
   ]
  },
  {
   "cell_type": "code",
   "execution_count": null,
   "metadata": {},
   "outputs": [],
   "source": [
    "#Proximal Land Use Categories: (GU,T1,T2,T3,DU)\n",
    "categories = {\n",
    "    \n",
    "\"Origins\":{\n",
    "    \n",
    "\"Housing - Single Family Residence\":\n",
    "    ([\"V\",\"K\",\"A\"],[\"Housing\"],[\"Urban Single Family Residence\"],[\"Isolated or Twin\",\"Detached or Perimeter Block\"],[\"A\",\"V\"]),\n",
    "\"Housing - Collective Housing\" :\n",
    "    [([\"V\"],[\"Housing\"],[\"Urban Collective Housing\"],[\"Perimeter Block\",\"Open Block\"],[\"V\"]),\n",
    "                       ([\"O\"],[\"Offices\"],[\"Mixed Use\"],[\"With Housing\"],[\"V\"])]\n",
    "},\n",
    "\"Destinations\": {\n",
    "    \n",
    "\"Retail - Stand Alone Retail\":\n",
    "    [([\"C\",\"A\",\"I\",\"O\",\"P\"] ,[\"Retail\"], [\"Mixed Buildings\"],[\"Store or Workshop\"],[\"C\"]),\n",
    "     ([\"C\"],[\"Retail\"], [\"Single Retail Building\"],[\"Only Ground Floor\",\"More Than One Floor\"],[\"C\"])],\n",
    "\"Retail - Mall\":\n",
    "    ([\"C\",\"A\",\"I\",\"O\",\"P\"], [\"Retail\"], [\"Mixed Buildings\"],[\"Mall\"],[\"C\"]),\n",
    "\"Retail - Market or Supermarket\":\n",
    "    ([\"C\",\"A\",\"I\",\"O\",\"P\"], [\"Retail\"], [\"Market or Supermarket\"],[\"Market\",\"Supermarket\"],[\"C\"]),\n",
    "\"Sport - Multiple\" :\n",
    "    ([\"K\",\"A\",\"I\",\"O\",\"P\"], [\"Sport\"],[\"Covered\",\"Uncovered\"],[\"Multiple Sports\",\"Swimming Pool\"],[\"K\"]),\n",
    "\"Leisure - Sport\" :\n",
    "    ([\"K\",\"A\",\"I\",\"O\",\"P\"], [\"Sport\"],[\"Sports - Leisure\"], [\"Stadiums and Bull Rings\",\"Racecourse, Canodrome and Other\"],[\"K\"]),\n",
    "\"Leisure - Shows\" :\n",
    "    ([\"T\",\"A\",\"O\"],[\"Shows\"],[\"Theatre, Cinema\"],[\"Covered\",\"Uncovered\",\"Theatre\",\"Cinema\"],[\"T\",\"C\",\"G\"]),\n",
    "\"Leisure - Bars and Restaurants\" :\n",
    "    [([\"T\",\"G\"],[\"Shows\"],[\"Musical Bars, Dancehalls\"],[\"Exclusive Building\",\"With Other Uses\"],[\"G\",\"T\",\"C\"]),\n",
    "     ([\"G\",\"C\",\"O\",\"T\",\"V\"],[\"Hotels and Restaurants\"],[\"No residence\"],[\"Restaurants\",\"Bars and Coffee Shops\"],[\"C\",\"G\",\"T\"])],\n",
    "\"Leisure - Cultural\" :\n",
    "    [([\"G\",\"C\",\"O\",\"T\",\"V\"],[\"Hotels and Restaurants\"],[\"Exhibition and Clubs\"],[\"Casinos and Clubs\",\"Exhibition and Congress Halls\"],[\"C\",\"G\",\"T\"]),\n",
    "     ([\"E\",\"K\",\"A\",\"P\"],[\"Culture and Religion\"],[\"Cultural Without Residence\"],[\"Library and Museum\"],[\"EMS\",\"EBL\",\"ECL\"])],\n",
    "\"Healthcare - Multiple\" :\n",
    "    ([\"Y\",\"P\",\"O\",\"V\",\"C\",\"G\"],[\"Healthcare\"],[\"Hosts Patients\",\"Other\",\"Social Care\"],[\"Clinic, Sanatorium\",\"Hospitals\",\"Primary Health Center\",\"Asylum, Senior Center\"],[\"Y\"]),\n",
    "\"Educational - Basic\":\n",
    "    [([\"E\",\"K\",\"A\",\"P\",\"V\"],[\"Culture and Religion\"],[\"Cultural Without Residence\"],[\"Faculty or School\"],[\"EBS\",\"EIN\"]),\n",
    "     ([\"E\",\"K\",\"A\",\"P\",\"V\",\"Y\"],[\"Healthcare\"],[\"Other\"],[\"Kidergarten, Dining Hall\"],[\"YGR\"])],\n",
    "\"Educational - Superior\":\n",
    "    ([\"E\",\"K\",\"A\",\"P\"],[\"Culture and Religion\"],[\"Cultural Without Residence\"],[\"Faculty or School\"],[\"EUN\",\"EPR\"]),\n",
    "\"Public - Multiple\" :\n",
    "    ([\"P\",\"O\",\"Y\"],[\"Heritage, Monumental, Official, Military\"],[\"Official\"],[\"Administrative\"],[\"P\",\"O\"])\n",
    "}\n",
    "}\n",
    "    \n"
   ]
  },
  {
   "cell_type": "code",
   "execution_count": null,
   "metadata": {},
   "outputs": [],
   "source": []
  },
  {
   "cell_type": "code",
   "execution_count": null,
   "metadata": {},
   "outputs": [],
   "source": [
    "#Proximal Land Use Categories: (GU,T1,T2,T3,DU)\n",
    "categories = {\n",
    "    \n",
    "\"Origins\":{\n",
    "    \n",
    "\"Housing - Single Family Residence\":\n",
    "    ([\"V\",\"K\",\"A\"],[\"Housing\"],[\"Urban Single Family Residence\"],[\"Isolated or Twin\",\"Detached or Perimeter Block\"],[\"A\",\"V\"]),\n",
    "\"Housing - Collective Housing\" :\n",
    "    [([\"V\"],[\"Housing\"],[\"Urban Collective Housing\"],[\"Perimeter Block\",\"Open Block\"],[\"V\"]),\n",
    "                       ([\"O\"],[\"Offices\"],[\"Mixed Use\"],[\"With Housing\"],[\"V\"])]\n",
    "},\n",
    "\"Destinations\": {\n",
    "    \n",
    "\"Retail - Stand Alone Retail\":\n",
    "    [([\"C\",\"A\",\"I\",\"O\",\"P\"] ,[\"Retail\"], [\"Mixed Buildings\"],[\"Store or Workshop\"],[\"C\"]),\n",
    "     ([\"C\"],[\"Retail\"], [\"Single Retail Building\"],[\"Only Ground Floor\",\"More Than One Floor\"],[\"C\"])],\n",
    "\"Retail - Mall\":\n",
    "    ([\"C\",\"A\",\"I\",\"O\",\"P\"], [\"Retail\"], [\"Mixed Buildings\"],[\"Mall\"],[\"C\"]),\n",
    "\"Retail - Market or Supermarket\":\n",
    "    ([\"C\",\"A\",\"I\",\"O\",\"P\"], [\"Retail\"], [\"Market or Supermarket\"],[\"Market\",\"Supermarket\"],[\"C\"]),\n",
    "\"Sport - Multiple\" :\n",
    "    ([\"K\",\"A\",\"I\",\"O\",\"P\"], [\"Sport\"],[\"Covered\",\"Uncovered\"],[\"Multiple Sports\",\"Swimming Pool\"],[\"K\"]),\n",
    "\"Leisure - Sport\" :\n",
    "    ([\"K\",\"A\",\"I\",\"O\",\"P\"], [\"Sport\"],[\"Sports - Leisure\"], [\"Stadiums and Bull Rings\",\"Racecourse, Canodrome and Other\"],[\"K\"]),\n",
    "\"Leisure - Shows\" :\n",
    "    ([\"T\",\"A\",\"O\"],[\"Shows\"],[\"Theatre, Cinema\"],[\"Covered\",\"Uncovered\",\"Theatre\",\"Cinema\"],[\"T\",\"C\",\"G\"]),\n",
    "\"Leisure - Bars and Restaurants\" :\n",
    "    [([\"T\",\"G\"],[\"Shows\"],[\"Musical Bars, Dancehalls\"],[\"Exclusive Building\",\"With Other Uses\"],[\"G\",\"T\",\"C\"]),\n",
    "     ([\"G\",\"C\",\"O\",\"T\",\"V\"],[\"Hotels and Restaurants\"],[\"No residence\"],[\"Restaurants\",\"Bars and Coffee Shops\"],[\"C\",\"G\",\"T\"])],\n",
    "\"Leisure - Cultural\" :\n",
    "    [([\"G\",\"C\",\"O\",\"T\",\"V\"],[\"Hotels and Restaurants\"],[\"Exhibition and Clubs\"],[\"Casinos and Clubs\",\"Exhibition and Congress Halls\"],[\"C\",\"G\",\"T\"]),\n",
    "     ([\"E\",\"K\",\"A\",\"P\"],[\"Culture and Religion\"],[\"Cultural Without Residence\"],[\"Library and Museum\"],[\"EMS\",\"EBL\",\"ECL\"])],\n",
    "\"Healthcare - Multiple\" :\n",
    "    ([\"Y\",\"P\",\"O\",\"V\",\"C\",\"G\"],[\"Healthcare\"],[\"Hosts Patients\",\"Other\",\"Social Care\"],[\"Clinic, Sanatorium\",\"Hospitals\",\"Primary Health Center\",\"Asylum, Senior Center\"],[\"Y\"]),\n",
    "\"Educational - Basic\":\n",
    "    [([\"E\",\"K\",\"A\",\"P\",\"V\"],[\"Culture and Religion\"],[\"Cultural Without Residence\"],[\"Faculty or School\"],[\"EBS\",\"EIN\"]),\n",
    "     ([\"E\",\"K\",\"A\",\"P\",\"V\",\"Y\"],[\"Healthcare\"],[\"Other\"],[\"Kidergarten, Dining Hall\"],[\"YGR\"])],\n",
    "\"Educational - Superior\":\n",
    "    ([\"E\",\"K\",\"A\",\"P\"],[\"Culture and Religion\"],[\"Cultural Without Residence\"],[\"Faculty or School\"],[\"EUN\",\"EPR\"]),\n",
    "\"Public - Multiple\" :\n",
    "    ([\"P\",\"O\",\"Y\"],[\"Heritage, Monumental, Official, Military\"],[\"Official\"],[\"Administrative\"],[\"P\",\"O\"])\n",
    "}\n",
    "}\n",
    "    \n",
    "\n",
    "\n"
   ]
  },
  {
   "cell_type": "code",
   "execution_count": null,
   "metadata": {},
   "outputs": [],
   "source": [
    "def apply_logic(df,combination_tuple,end_type,category):\n",
    "    df.loc[(df['Property General Use'].isin(combination_tuple[0]))&\n",
    "           (df['Part Tipology Level1'].isin(combination_tuple[1]))&\n",
    "           (df['Tipology Level2'].isin(combination_tuple[2]))&\n",
    "           (df['Tipology Level3'].isin(combination_tuple[3]))&\n",
    "           (df['Detailed Use'].isin(combination_tuple[4])),'Proximity Category'] = end_type+\" - \"+category\n",
    "    return df"
   ]
  },
  {
   "cell_type": "code",
   "execution_count": null,
   "metadata": {},
   "outputs": [],
   "source": [
    "for end_type in [\"Origins\",\"Destinations\"]:\n",
    "    for category,combination in categories[end_type].items():\n",
    "        if isinstance(combination,list):\n",
    "            for case in combination:\n",
    "                apply_logic(gdf,case,end_type,category)\n",
    "        else:\n",
    "            print(combination)\n",
    "            apply_logic(gdf,combination,end_type,category)"
   ]
  },
  {
   "cell_type": "code",
   "execution_count": null,
   "metadata": {},
   "outputs": [],
   "source": [
    "gdf"
   ]
  },
  {
   "cell_type": "code",
   "execution_count": null,
   "metadata": {},
   "outputs": [],
   "source": [
    "common = ['Province Code', 'Province Name', 'Municipality Code Cadastre','Municipality Code INE', 'Municipality Name INE', 'Settlement','Postal Code', 'Municipality District','Original Municipality Code','Zone Code', 'Polygon Code', 'Cadastral Parcel ID',    \n",
    "'Parcel Area', 'Built Area','Built Area Above Ground', 'Built Area Under Ground',\n",
    "'Built Area Under Cover',  'Special Asset', 'Special Asset Name','Building Class (Urban, Rural, Special)', 'Building Code ID',\n",
    "'Year Built', 'Accuracy Year Built', 'Facade Lenght', 'Matrix Building','gml_id', 'localId', 'namespace', 'specification',\n",
    "'address_id','Cadastral Property ID','Property ID', 'Street Code Property','Street Class Property', 'Street Name Property','First Number Property', 'First Letter Property',\n",
    "'Proximity Category']\n",
    "\n",
    "#'Age of Property', 'General Use', 'Built Area Property','Single or Multiple Property','Detailed Use', 'Renovation Kind','Renovation Year', 'Weighted Year', 'Interior' ,'Tipology','Is Common','Tipology Level1', 'Tipology Level2', 'Tipology Level3']\n",
    "local = ['Area in Cadastral Terms']"
   ]
  },
  {
   "cell_type": "code",
   "execution_count": null,
   "metadata": {},
   "outputs": [],
   "source": []
  },
  {
   "cell_type": "code",
   "execution_count": null,
   "metadata": {},
   "outputs": [],
   "source": [
    "t = gdf.groupby(common).sum()[local]"
   ]
  },
  {
   "cell_type": "code",
   "execution_count": null,
   "metadata": {},
   "outputs": [],
   "source": [
    "t"
   ]
  },
  {
   "cell_type": "code",
   "execution_count": null,
   "metadata": {},
   "outputs": [],
   "source": [
    "t.head(25000).to_excel(path+r\"\\test.xlsx\")"
   ]
  },
  {
   "cell_type": "code",
   "execution_count": null,
   "metadata": {},
   "outputs": [],
   "source": []
  },
  {
   "cell_type": "code",
   "execution_count": null,
   "metadata": {},
   "outputs": [],
   "source": [
    "t = gdf.groupby(['Cadastral Parcel ID','Street Class Property','Street Name Property','First Number Property','Tipology Level1','Tipology Level2','Tipology Level3'])['Area in Cadastral Terms'].sum()"
   ]
  },
  {
   "cell_type": "code",
   "execution_count": null,
   "metadata": {},
   "outputs": [],
   "source": [
    "pd.set_option('display.max_rows', 1000)"
   ]
  },
  {
   "cell_type": "code",
   "execution_count": null,
   "metadata": {},
   "outputs": [],
   "source": [
    "t"
   ]
  },
  {
   "cell_type": "code",
   "execution_count": null,
   "metadata": {},
   "outputs": [],
   "source": [
    "#t = t.pivot(index = ['Cadastral Parcel ID','Street Class Property','Street Name Property','First Number Property'],columns=['Tipology Level1','Tipology Level2','Tipology Level3'],values='Area in Cadastral Terms').fillna(0)"
   ]
  },
  {
   "cell_type": "code",
   "execution_count": null,
   "metadata": {},
   "outputs": [],
   "source": [
    "t"
   ]
  },
  {
   "cell_type": "code",
   "execution_count": null,
   "metadata": {},
   "outputs": [],
   "source": [
    "t.to_excel(path+r\"\\test.xlsx\")"
   ]
  },
  {
   "cell_type": "code",
   "execution_count": null,
   "metadata": {},
   "outputs": [],
   "source": [
    "t = gdf.groupby(['Cadastral Parcel ID','Property ID','General Use','Tipology'])['Area in Cadastral Terms'].sum().reset_index()"
   ]
  },
  {
   "cell_type": "code",
   "execution_count": null,
   "metadata": {},
   "outputs": [],
   "source": [
    "gdf['Tipology'].unique()"
   ]
  },
  {
   "cell_type": "code",
   "execution_count": null,
   "metadata": {},
   "outputs": [],
   "source": [
    "#t.to_csv(path+r\"\\teste.csv\",sep=\";\")\n",
    "t.groupby(['Cadastral Parcel ID','Property ID','Tipology'])['Area in Cadastral Terms'].count()"
   ]
  },
  {
   "cell_type": "code",
   "execution_count": null,
   "metadata": {},
   "outputs": [],
   "source": [
    "codes_columns = list(t.columns)\n",
    "totals = t[codes_columns].sum(axis=1)\n",
    "for c in t.columns:\n",
    "    t[\"p\"+c] = (100*t[c])/totals"
   ]
  },
  {
   "cell_type": "code",
   "execution_count": null,
   "metadata": {},
   "outputs": [],
   "source": [
    "t['sort_use'] = t.apply(list, 1).apply(sorted).apply(list)"
   ]
  },
  {
   "cell_type": "code",
   "execution_count": null,
   "metadata": {},
   "outputs": [],
   "source": [
    "t['sort_use'] = t.apply(lambda r:[el for el in r['sort_use'] if el !=0.0],axis=1)"
   ]
  },
  {
   "cell_type": "code",
   "execution_count": null,
   "metadata": {},
   "outputs": [],
   "source": [
    "t['sort_use']"
   ]
  },
  {
   "cell_type": "code",
   "execution_count": null,
   "metadata": {},
   "outputs": [],
   "source": [
    "#gdf.to_file(path+r\"\\test.gpkg\",driver='GPKG')"
   ]
  },
  {
   "cell_type": "code",
   "execution_count": null,
   "metadata": {},
   "outputs": [],
   "source": [
    "df11 = prepare_df(leecat11(cadastre_path))\n",
    "df13 = prepare_df(leecat13(cadastre_path))\n",
    "df14 = prepare_df(leecat14(cadastre_path))\n",
    "df15 = prepare_df(leecat15(cadastre_path))"
   ]
  },
  {
   "cell_type": "code",
   "execution_count": null,
   "metadata": {},
   "outputs": [],
   "source": [
    "cityname = df11['NOMMUN'].iloc[0]\n",
    "print(\"Reconocido municipio: \"+cityname)"
   ]
  },
  {
   "cell_type": "code",
   "execution_count": null,
   "metadata": {},
   "outputs": [],
   "source": [
    "df11 = df11[['PCAT','CODPROV','CODINE','NOMPROV','NOMMUN','PCODVIA','PTIPVIA','PNOMVIA','PPNP','PPLE','SUPP','SUPCT','SUPCSR','SUPCBR','SUPCUB','COORX','COORY','DEN_BICE']]\n",
    "df13 = df13[['PCAT','COD_UC','ANOCONS','ANOEXAC']]\n",
    "df14 = df14[['PCAT','NCBI_PC','COD_UC','CDD','TIPREF','ANOREF','ANOEFE','SUPT_CAT']]\n",
    "#Drop common spaces\n",
    "df14 = df14.loc[df14['NCBI_PC'] != \"\"]\n",
    "df15 = df15[['PCAT','NCBI_PC','CODVIA','TIPVIA','NOMVIA','PNP','PLE','NOBI','ANOANT','CDD_BI','SUPCON']]"
   ]
  },
  {
   "cell_type": "code",
   "execution_count": null,
   "metadata": {},
   "outputs": [],
   "source": [
    "#Merge all four register tables\n",
    "df = merge_and_drop(df15,df14,'right',['PCAT','NCBI_PC'])\n",
    "df = merge_and_drop(df13,df,'right',['PCAT','COD_UC'])\n",
    "df = merge_and_drop(df11,df,'right',['PCAT'])\n",
    "df['PPNP'] = df['PPNP'].fillna(0).astype('int64').astype('str').str.replace(\"0\", \"\")\n",
    "df['PNP'] = df['PNP'].fillna(0).astype('int64').astype('str').str.replace(\"0\", \"\")"
   ]
  },
  {
   "cell_type": "code",
   "execution_count": null,
   "metadata": {},
   "outputs": [],
   "source": [
    "len(df.PCAT.unique())"
   ]
  },
  {
   "cell_type": "code",
   "execution_count": null,
   "metadata": {},
   "outputs": [],
   "source": [
    "df_bi = df.drop_duplicates(subset = ['PCAT','NCBI_PC'],keep='first')"
   ]
  },
  {
   "cell_type": "code",
   "execution_count": null,
   "metadata": {},
   "outputs": [],
   "source": [
    "sums = pd.pivot_table(df_bi, values='SUPCON', index=['PCAT'],columns=['CDD_BI'], aggfunc=np.sum).fillna(0)"
   ]
  },
  {
   "cell_type": "code",
   "execution_count": null,
   "metadata": {},
   "outputs": [],
   "source": [
    "counts = pd.pivot_table(df_bi, values='SUPCON', index=['PCAT'],columns=['CDD_BI'], aggfunc=lambda x: len(x.unique())).fillna(0)"
   ]
  },
  {
   "cell_type": "code",
   "execution_count": null,
   "metadata": {},
   "outputs": [],
   "source": [
    "sums.rename(columns = {c:\"S\"+c for c in sums.columns},inplace=True)"
   ]
  },
  {
   "cell_type": "code",
   "execution_count": null,
   "metadata": {},
   "outputs": [],
   "source": [
    "counts.rename(columns = {c:\"N\"+c for c in counts.columns},inplace=True)"
   ]
  },
  {
   "cell_type": "code",
   "execution_count": null,
   "metadata": {},
   "outputs": [],
   "source": [
    "addresses_inspire = gpd.read_file(addresses_inspire)"
   ]
  },
  {
   "cell_type": "code",
   "execution_count": null,
   "metadata": {},
   "outputs": [],
   "source": [
    "#addresses_inspire"
   ]
  },
  {
   "cell_type": "code",
   "execution_count": null,
   "metadata": {},
   "outputs": [],
   "source": []
  },
  {
   "cell_type": "code",
   "execution_count": null,
   "metadata": {},
   "outputs": [],
   "source": [
    "parcels_loaded = pd.merge(parcels,counts,left_index=True,right_index=True,how='left')\n",
    "parcels_loaded = pd.merge(parcels,sums,left_index=True,right_index=True,how='left')"
   ]
  },
  {
   "cell_type": "code",
   "execution_count": null,
   "metadata": {},
   "outputs": [],
   "source": [
    "for p in [c for c in parcels_loaded.columns if len(c)==2]:\n",
    "    parcels_loaded[p].fillna(0,inplace=True)"
   ]
  },
  {
   "cell_type": "code",
   "execution_count": null,
   "metadata": {},
   "outputs": [],
   "source": [
    "len(parcels_loaded)"
   ]
  },
  {
   "cell_type": "code",
   "execution_count": null,
   "metadata": {},
   "outputs": [],
   "source": [
    "parcels_loaded.to_file(path+cityname+\"_loaded.shp\",driver='ESRI Shapefile')"
   ]
  },
  {
   "cell_type": "markdown",
   "metadata": {},
   "source": [
    "# Get Land Use Reference points ready\n",
    "Basically, I use cadastral addresses points described [here](http://www.catastro.minhap.es/ayuda/manual_descriptivo_shapefile.pdf), assign the nearest parcel id to each one,and then try to match them to my cadastral records. This point is the closest I can get to the actual entrance of each land use activity, I call it ***'refpoint'***"
   ]
  },
  {
   "cell_type": "code",
   "execution_count": null,
   "metadata": {},
   "outputs": [],
   "source": [
    "addresses = gpd.read_file(access_file)\n",
    "#addresses = addresses.loc[addresses['INTEREST']==1]\n",
    "addresses = addresses.loc[~addresses['geometry'].isna()]\n",
    "parcels = gpd.read_file(parcels_file)\n",
    "#parcels = parcels.loc[parcels['INTEREST']==1]\n",
    "parcels = parcels.loc[~parcels['geometry'].isna()]"
   ]
  },
  {
   "cell_type": "code",
   "execution_count": null,
   "metadata": {},
   "outputs": [],
   "source": [
    "#Get the address points\n",
    "addresses = addresses.loc[addresses['TTGGSS'] == '189401']\n",
    "addresses['geometry'] = addresses['geometry'].centroid"
   ]
  },
  {
   "cell_type": "code",
   "execution_count": null,
   "metadata": {},
   "outputs": [],
   "source": [
    "addresses.head(2)"
   ]
  },
  {
   "cell_type": "code",
   "execution_count": null,
   "metadata": {},
   "outputs": [],
   "source": [
    "parcels.head(2)"
   ]
  },
  {
   "cell_type": "code",
   "execution_count": null,
   "metadata": {},
   "outputs": [],
   "source": []
  },
  {
   "cell_type": "code",
   "execution_count": null,
   "metadata": {},
   "outputs": [],
   "source": [
    "fig, ax = plt.subplots(figsize =(10,10))\n",
    "ax.set_facecolor('black')\n",
    "parcels.plot(ax=ax)\n",
    "addresses.plot(ax=ax,\n",
    "                    color='lightgray',\n",
    "                    markersize = 2)\n",
    "plt.grid(True,color='w', linestyle='-', linewidth=0.3)\n",
    "plt.show();\n",
    "plt.clf()"
   ]
  },
  {
   "cell_type": "code",
   "execution_count": null,
   "metadata": {},
   "outputs": [],
   "source": [
    "%run Utils.ipynb\n",
    "\n",
    "#Find Nearest Parcels\n",
    "addresses = find_nearest(addresses,parcels,'REFCAT')[['ROTULO','REFCAT','geometry']]\n",
    "display(addresses.head())"
   ]
  },
  {
   "cell_type": "code",
   "execution_count": null,
   "metadata": {},
   "outputs": [],
   "source": [
    "#Three alternatives (Proper Address, Parcel Address, Parcel Centroid)\n",
    "addresses['gaddress'] = addresses['REFCAT']+addresses['ROTULO']\n",
    "addresses = addresses[['REFCAT','ROTULO','gaddress','geometry']]\n",
    "df['address'] = df['PCAT']+df['PNP']+df['PLE']\n",
    "df['paddress'] = df['PCAT']+df['PPNP']+df['PPLE']\n",
    "dict_address_points = pd.Series(addresses.geometry.values,index=addresses.gaddress).to_dict()\n",
    "df['refpoint'] = df['address'].map(dict_address_points)\n",
    "dfa = df[df['refpoint'].notnull()]\n",
    "dfb = df[df['refpoint'].isnull()]\n",
    "dfb['refpoint'] = dfb['paddress'].map(dict_address_points)\n",
    "dfc = dfb[dfb['refpoint'].isnull()]             \n",
    "dfb = dfb[dfb['refpoint'].notnull()]\n",
    "dfc['refpoint'] = dfc.apply(lambda row: Point(row.COORX, row.COORY), axis=1) \n",
    "reference_points = pd.concat([dfa,dfb,dfc])\n",
    "reference_points['geometry'] = reference_points['refpoint'] \n",
    "display(reference_points.head())"
   ]
  },
  {
   "cell_type": "markdown",
   "metadata": {},
   "source": [
    "# Process network data and find possible network reference points for land use"
   ]
  },
  {
   "cell_type": "markdown",
   "metadata": {},
   "source": [
    "Now I need another point where my addresses (entrances) snap to the network, in order to create a significant point of activity along my street network edges. I create a set of possible measure points and snap my addresses to it"
   ]
  },
  {
   "cell_type": "code",
   "execution_count": null,
   "metadata": {},
   "outputs": [],
   "source": [
    "network = gpd.read_file(network_file)\n",
    "#network = network.loc[network['INTEREST2']==1]"
   ]
  },
  {
   "cell_type": "code",
   "execution_count": null,
   "metadata": {},
   "outputs": [],
   "source": [
    "#Create measure points by splitting original network into 50 m chunks and retrieving all the resulting line intersections\n",
    "spl = lines_and_interpolated_vertices(network,100,['id_vial','id_tramo','tipo_vial','clase','firme','tipovehic'])\n",
    "split_interpolated_network = spl[0]\n",
    "modified_network = spl[1]"
   ]
  },
  {
   "cell_type": "code",
   "execution_count": null,
   "metadata": {},
   "outputs": [],
   "source": [
    "measure_points = get_lines_endpoints(split_interpolated_network)\n",
    "measure_points = gpd.GeoDataFrame(measure_points,columns=['geometry'])\n",
    "measure_points['netpoint'] = measure_points.index\n",
    "display(measure_points.head())"
   ]
  },
  {
   "cell_type": "code",
   "execution_count": null,
   "metadata": {},
   "outputs": [],
   "source": [
    "print(len(reference_points))"
   ]
  },
  {
   "cell_type": "code",
   "execution_count": null,
   "metadata": {},
   "outputs": [],
   "source": [
    "#Find Nearest Parcels\n",
    "final_registers = find_nearest(reference_points,measure_points,'netpoint')\n",
    "final_registers = pd.merge(final_registers,measure_points,how='left',on='netpoint')\n",
    "final_registers['netpointg'] = final_registers['geometry_y']\n",
    "final_registers.drop(columns=['geometry_x','geometry_y'],inplace=True)"
   ]
  },
  {
   "cell_type": "markdown",
   "metadata": {},
   "source": [
    "# Prepare final network geometry"
   ]
  },
  {
   "cell_type": "markdown",
   "metadata": {},
   "source": [
    "Now I want to create edges geometries that are aware of all intersections in my original data, as well as the identified network reference points, so I optimize the number of edges used\n",
    "\n",
    "First, I will grab all the intersections of the original data"
   ]
  },
  {
   "cell_type": "code",
   "execution_count": null,
   "metadata": {},
   "outputs": [],
   "source": [
    "network['geometry'] = network['geometry'].astype('str')\n",
    "original_endpoints = [p.wkt for p in get_lines_endpoints(network)]\n",
    "points_with_activity =  [p.wkt for p in list(final_registers.netpointg.unique())]\n",
    "final_network_points = list(set(original_endpoints+points_with_activity))"
   ]
  },
  {
   "cell_type": "markdown",
   "metadata": {},
   "source": [
    "Then, I will create a network that is split on the new interpolated points"
   ]
  },
  {
   "cell_type": "code",
   "execution_count": null,
   "metadata": {},
   "outputs": [],
   "source": [
    "final_split_network = split_lines_at_points(modified_network,final_network_points,['id_vial','id_tramo','tipo_vial','clase','firme','tipovehic'],'id_tramo')"
   ]
  },
  {
   "cell_type": "code",
   "execution_count": null,
   "metadata": {},
   "outputs": [],
   "source": [
    "final_split_network = calculate_speed_by_slope(final_split_network,'length','slope')"
   ]
  },
  {
   "cell_type": "markdown",
   "metadata": {},
   "source": [
    "Finally, I need to referr my cadastral registers to the final network points, as the set has changed significantly. I will recreate the index column and relate my reference points to these again"
   ]
  },
  {
   "cell_type": "code",
   "execution_count": null,
   "metadata": {},
   "outputs": [],
   "source": [
    "final_network_points = pd.DataFrame(final_network_points)\n",
    "final_network_points['netpoint'] = final_network_points.index"
   ]
  },
  {
   "cell_type": "code",
   "execution_count": null,
   "metadata": {},
   "outputs": [],
   "source": [
    "final_registers.drop(columns=['netpoint','netpointg'],inplace=True)"
   ]
  },
  {
   "cell_type": "code",
   "execution_count": null,
   "metadata": {},
   "outputs": [],
   "source": [
    "display(final_registers.head())"
   ]
  },
  {
   "cell_type": "code",
   "execution_count": null,
   "metadata": {},
   "outputs": [],
   "source": [
    "final_registers['geometry'] = final_registers['refpoint']\n",
    "final_network_points.rename(columns = {0:'geometry'},inplace = True)"
   ]
  },
  {
   "cell_type": "code",
   "execution_count": null,
   "metadata": {},
   "outputs": [],
   "source": [
    "final_network_points['geometry'] = final_network_points.apply(lambda row: Point(loads(row['geometry'])),axis=1)"
   ]
  },
  {
   "cell_type": "code",
   "execution_count": null,
   "metadata": {},
   "outputs": [],
   "source": [
    "final_network_points.to_csv(path+\"\\\\MADRID\\\\final_network_points.csv\")"
   ]
  },
  {
   "cell_type": "code",
   "execution_count": null,
   "metadata": {},
   "outputs": [],
   "source": [
    "final_network_points = gpd.GeoDataFrame(final_network_points,geometry ='geometry')"
   ]
  },
  {
   "cell_type": "code",
   "execution_count": null,
   "metadata": {},
   "outputs": [],
   "source": [
    "final_registers = find_nearest(final_registers,final_network_points,'netpoint')"
   ]
  },
  {
   "cell_type": "code",
   "execution_count": null,
   "metadata": {},
   "outputs": [],
   "source": [
    "final_registers.rename(columns = {'geometry':'netpointg'},inplace=True) "
   ]
  },
  {
   "cell_type": "code",
   "execution_count": null,
   "metadata": {},
   "outputs": [],
   "source": [
    "final_registers.to_csv(path+\"\\\\MADRID\\\\CAT_referenciado.csv\")\n",
    "final_network_points.to_csv(path+\"\\\\MADRID\\\\RED_nodos.csv\")"
   ]
  },
  {
   "cell_type": "code",
   "execution_count": null,
   "metadata": {},
   "outputs": [],
   "source": [
    "measure_points.to_csv(path+\"\\\\MADRID\\\\measure_points.csv\")"
   ]
  },
  {
   "cell_type": "code",
   "execution_count": null,
   "metadata": {},
   "outputs": [],
   "source": [
    "final_split_network['geometry'] = final_split_network['geometry'].apply(loads)\n",
    "\n",
    "final_split_network = gpd.GeoDataFrame(final_split_network,geometry='geometry')\n",
    "final_split_network.to_file(path+\"\\\\MADRID\\\\edges_loaded.shp\",driver = 'Shapefile')"
   ]
  },
  {
   "cell_type": "code",
   "execution_count": null,
   "metadata": {},
   "outputs": [],
   "source": [
    "final_split_network.to_csv(path+\"\\\\MADRID\\\\edges_loaded.csv\")"
   ]
  },
  {
   "cell_type": "code",
   "execution_count": null,
   "metadata": {},
   "outputs": [],
   "source": []
  }
 ],
 "metadata": {
  "kernelspec": {
   "display_name": "Python 3",
   "language": "python",
   "name": "python3"
  },
  "language_info": {
   "codemirror_mode": {
    "name": "ipython",
    "version": 3
   },
   "file_extension": ".py",
   "mimetype": "text/x-python",
   "name": "python",
   "nbconvert_exporter": "python",
   "pygments_lexer": "ipython3",
   "version": "3.8.5"
  }
 },
 "nbformat": 4,
 "nbformat_minor": 4
}
