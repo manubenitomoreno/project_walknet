{
 "cells": [
  {
   "cell_type": "code",
   "execution_count": 1,
   "metadata": {},
   "outputs": [],
   "source": [
    "map = {\n",
    "'30824':'Indicadores de renta media',\n",
    "'30825':'Distribución por fuente de ingresos',\n",
    "'30826':'Distribución de la renta por unidad de consumo',\n",
    "'30827':['Distribución de la renta por unidad de consumo','Sexo','Tramos de edad'],\n",
    "'30828':['Distribución de la renta por unidad de consumo','Sexo','Nacionalidad'],\n",
    "'30829':['Distribución de la renta por unidad de consumo','Sexo'],\n",
    "'30830':['Distribución de la renta por unidad de consumo','Sexo','Tramos de edad'],\n",
    "'30831':['Distribución de la renta por unidad de consumo','Sexo','Nacionalidad'],\n",
    "'30832':'Indicadores demográficos',\n",
    "'37677':'Indicadores de renta media'}\n",
    "\n",
    "variables = ['Renta neta media por persona ', 'Renta neta media por hogar',\n",
    "'Media de la renta por unidad de consumo',\n",
    "'Mediana de la renta por unidad de consumo',\n",
    "'Renta bruta media por persona', 'Renta bruta media por hogar',\n",
    "'Fuente de ingreso: salario', 'Fuente de ingreso: pensiones',\n",
    "'Fuente de ingreso: prestaciones por desempleo',\n",
    "'Fuente de ingreso: otras prestaciones',\n",
    "'Fuente de ingreso: otros ingresos',\n",
    "'Edad media de la población',\n",
    "'Porcentaje de población menor de 18 años',\n",
    "'Porcentaje de población de 65 y más años',\n",
    "'Tamaño medio del hogar',\n",
    "'Porcentaje de hogares unipersonales',\n",
    "'Población',\n",
    "'Porcentaje de población española',\n",
    "'Índice de Gini',\n",
    "'Distribución de la renta P80/P20']"
   ]
  },
  {
   "cell_type": "code",
   "execution_count": 2,
   "metadata": {},
   "outputs": [],
   "source": [
    "path = r\"C:\\Users\\ManuBenito\\Documents\\Walknet-DataLake\\sources\\ine_atlasrenta\""
   ]
  },
  {
   "cell_type": "code",
   "execution_count": 3,
   "metadata": {},
   "outputs": [],
   "source": [
    "import pandas as pd"
   ]
  },
  {
   "cell_type": "code",
   "execution_count": 4,
   "metadata": {},
   "outputs": [],
   "source": [
    "def download_atlasrenta(path):\n",
    "    for key, values in map.items():\n",
    "        url = \"https://www.ine.es/jaxiT3/files/t/es/csv_bdsc/{key}.csv?nocab=1\"\n",
    "        pd.read_csv(url,sep=\";\").to_csv(f\"{path}\\level0\\{key}_{values[0]}.csv\",sep=\";\")"
   ]
  },
  {
   "cell_type": "code",
   "execution_count": 5,
   "metadata": {},
   "outputs": [],
   "source": [
    "def process_ineatlas_data(path):\n",
    "    dfs = []\n",
    "    for key, fields in map.items():\n",
    "        df = pd.read_csv(f\"{path}\\level0\\{key}.csv\", sep =\";\")\n",
    "        df = df[~df['Secciones'].isna()]\n",
    "        df['code'] = df['Secciones'].str.split(\" \").str[0]\n",
    "        df['name'] = df['Secciones'].str.split(\" \", n=1).str[1]\n",
    "        df['period'] = df['Periodo']\n",
    "        if isinstance(fields,list):\n",
    "            df['variable'] = df[fields].agg(' - '.join, axis=1)\n",
    "        else:\n",
    "            df['variable'] = df[fields]\n",
    "        df['value'] = df['Total']\n",
    "        dfs.append(df[['code','name','period','variable','value']])\n",
    "    pd.concat(dfs).to_parquet(path=f\"{path}\\level1\\ine_atlasrenta.parquet\")"
   ]
  },
  {
   "cell_type": "code",
   "execution_count": 19,
   "metadata": {},
   "outputs": [],
   "source": [
    "def transform_ineatlas_data(path):\n",
    "    \n",
    "    df = pd.read_parquet(f\"{path}\\level1\\ine_atlasrenta.parquet\")\n",
    "\n",
    "    weird_values = list(df[~df['value'].fillna('-999').str.contains(\"[0-9]\\.[0-9]|[0-9]\\,[0-9]|^[0-9]+$\",regex=True)]['value'].unique())\n",
    "\n",
    "    df.loc[df['value'].isin(weird_values),'value'] = '-999'\n",
    "\n",
    "    df['value'] = df['value'].fillna('-999').str.replace(\".\",\"\").str.replace(\",\",\".\").astype(float)\n",
    "    \n",
    "    df[df['variable'].isin(variables)]\n",
    "    \n",
    "    return df"
   ]
  }
 ],
 "metadata": {
  "kernelspec": {
   "display_name": "Python 3.10.6",
   "language": "python",
   "name": "python3"
  },
  "language_info": {
   "codemirror_mode": {
    "name": "ipython",
    "version": 3
   },
   "file_extension": ".py",
   "mimetype": "text/x-python",
   "name": "python",
   "nbconvert_exporter": "python",
   "pygments_lexer": "ipython3",
   "version": "3.10.6"
  },
  "orig_nbformat": 4,
  "vscode": {
   "interpreter": {
    "hash": "824dd75ae52533d501c48caddb3c0ff1ec19c5804a5e404fe3c18da134102c64"
   }
  }
 },
 "nbformat": 4,
 "nbformat_minor": 2
}
