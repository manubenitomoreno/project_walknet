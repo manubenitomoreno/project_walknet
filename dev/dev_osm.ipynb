{
 "cells": [
  {
   "cell_type": "code",
   "execution_count": null,
   "metadata": {},
   "outputs": [],
   "source": [
    "#!pip install OSMPythonTools"
   ]
  },
  {
   "cell_type": "code",
   "execution_count": null,
   "metadata": {},
   "outputs": [],
   "source": [
    "from OSMPythonTools.nominatim import Nominatim\n",
    "from OSMPythonTools.overpass import overpassQueryBuilder, Overpass\n",
    "\n",
    "import pandas as pd\n",
    "import geopandas as gpd\n",
    "import matplotlib.pyplot as plt\n",
    "\n",
    "nominatim = Nominatim()\n",
    "overpass = Overpass()"
   ]
  },
  {
   "cell_type": "code",
   "execution_count": null,
   "metadata": {},
   "outputs": [],
   "source": [
    "categories = {\n",
    "    'park':{'elementType':['way','relation'],'selector':'\"leisure\"=\"park\"','color':'green'},\n",
    "    'square':{'elementType':['way','relation'],'selector':'\"place\"=\"square\"','color':'black'},\n",
    "    'pedestrian':{'elementType':['way','relation'],'selector':'\"highway\"=\"pedestrian\"','color':'black'},\n",
    "    'forest':{'elementType':['way','relation'],'selector':'\"landuse\"=\"forest\"','color':'green'},\n",
    "    'bus-stop':{'elementType':'node','selector':'\"highway\"=\"bus_stop\"','color':'red'},\n",
    "    'subway-stop': {'elementType':'node','selector':'\"railway\"=\"subway_entrance\"','color':'red'}\n",
    "    }"
   ]
  },
  {
   "cell_type": "code",
   "execution_count": null,
   "metadata": {},
   "outputs": [],
   "source": [
    "categories = {\n",
    "    'boundary':{'elementType':['way','relation'],'selector':'\"boundary\"=\"administrative\"','color':'green'}}\n",
    "    "
   ]
  },
  {
   "cell_type": "code",
   "execution_count": null,
   "metadata": {},
   "outputs": [],
   "source": [
    "def osm_frame(osm_query, type, color):\n",
    "    id = []\n",
    "    geometry = []\n",
    "    osm_type = []\n",
    "    tags = []\n",
    "\n",
    "    for elemento in osm_query.elements():\n",
    "        id.append(elemento.id())\n",
    "        geometry.append(elemento.geometry())\n",
    "        osm_type.append(elemento.type())\n",
    "        tags.append(elemento.tags())\n",
    "        \n",
    "    d = {'id':id, 'geometry':geometry, 'type':osm_type, 'tags':tags, 'type':type, 'color':color}\n",
    "\n",
    "    df = pd.DataFrame(data = d, index = d['id'])\n",
    "    return df"
   ]
  },
  {
   "cell_type": "code",
   "execution_count": null,
   "metadata": {},
   "outputs": [],
   "source": [
    "def get_features(area : str, keywords:dict):\n",
    "    return overpass.query(overpassQueryBuilder(\n",
    "        area= area,\n",
    "        elementType = keywords['elementType'],\n",
    "        selector=keywords['selector'],\n",
    "        out='body',\n",
    "        includeGeometry=True))"
   ]
  },
  {
   "cell_type": "code",
   "execution_count": null,
   "metadata": {},
   "outputs": [],
   "source": [
    "areas = [\n",
    "    'Alcalá de Henares','Alcobendas','Alcorcón','Boadilla del Monte','Brunete',\n",
    "    'Colmenar Viejo', 'Coslada','Fuenlabrada','Getafe', 'Humanes de Madrid',\n",
    "    'Leganés', 'Majadahonda', 'Mejorada del Campo', 'Móstoles', 'Paracuellos de Jarama',\n",
    "    'Parla','Pinto', 'Pozuelo de Alarcón', 'Rivas-Vaciamadrid', 'Las Rozas de Madrid',\n",
    "    'San Fernando de Henares', 'San Sebastián de los Reyes', 'Torrejón de Ardoz',\n",
    "    'Velilla de San Antonio', 'Villanueva de la Cañada', 'Villanueva del Pardillo', 'Villaviciosa de Odón', 'Tres Cantos', 'Madrid']"
   ]
  },
  {
   "cell_type": "code",
   "execution_count": null,
   "metadata": {},
   "outputs": [],
   "source": []
  },
  {
   "cell_type": "code",
   "execution_count": null,
   "metadata": {},
   "outputs": [],
   "source": [
    "data = {} "
   ]
  },
  {
   "cell_type": "code",
   "execution_count": null,
   "metadata": {},
   "outputs": [],
   "source": [
    "for area in areas:\n",
    "    area = nominatim.query(area, wkt=True)\n",
    "    gdf = pd.concat(\n",
    "        [gpd.GeoDataFrame(\n",
    "            osm_frame(\n",
    "                get_features(\n",
    "                    area,\n",
    "                    categories[cat]),\n",
    "                cat,\n",
    "                categories[cat]['color'])\n",
    "            ) for cat in categories]\n",
    "        )\n",
    "    data[area] = gdf"
   ]
  },
  {
   "cell_type": "code",
   "execution_count": null,
   "metadata": {},
   "outputs": [],
   "source": [
    "df"
   ]
  },
  {
   "cell_type": "code",
   "execution_count": null,
   "metadata": {},
   "outputs": [],
   "source": [
    "df = pd.concat(data.values())\n",
    "df = df[df.tags.str['admin_level'] == '8']"
   ]
  },
  {
   "cell_type": "code",
   "execution_count": null,
   "metadata": {},
   "outputs": [],
   "source": [
    "\n",
    "fig, ax = plt.subplots (figsize = (25,25))\n",
    "df.plot(ax = ax, color=df.color)"
   ]
  },
  {
   "cell_type": "code",
   "execution_count": null,
   "metadata": {},
   "outputs": [],
   "source": []
  },
  {
   "cell_type": "code",
   "execution_count": null,
   "metadata": {},
   "outputs": [],
   "source": [
    "\n",
    "\n",
    "#Definicion area de consulta\n",
    "area = nominatim.query('Madrid', wkt=True)\n",
    "\n",
    "#Consulta a la API de OSM\n",
    "park = overpassQueryBuilder(area= area, elementType= ['way','relation'], selector='\"leisure\"=\"park\"', out='body', includeGeometry=True )\n",
    "square = overpassQueryBuilder(area=area,elementType= ['way','relation'],selector='\"place\"=\"square\"', out='body', includeGeometry=True)\n",
    "forest = overpassQueryBuilder(area= area, elementType= ['way','relation'], selector='\"landuse\"=\"forest\"', out='body', includeGeometry=True )\n",
    "busStop = overpassQueryBuilder(area= area, elementType= 'node', selector='\"highway\"=\"bus_stop\"', out='body', includeGeometry=True )\n",
    "subwayStop = overpassQueryBuilder(area= area, elementType= 'node', selector='\"railway\"=\"subway_entrance\"', out='body', includeGeometry=True )\n",
    "\n",
    "\n",
    "park = overpass.query(park)\n",
    "busStop = overpass.query(busStop)\n",
    "forest = overpass.query(forest)\n",
    "square = overpass.query(square)\n",
    "metro_entrance = overpass.query(subwayStop)\n",
    "\n",
    "#Creacion de pandas.dataframe a partir de query a API\n",
    "def data_frame(osm_query):\n",
    "    id = []\n",
    "    geometry = []\n",
    "    osm_type = []\n",
    "    tags = []\n",
    "\n",
    "    for elemento in osm_query.elements():\n",
    "        id.append(elemento.id())\n",
    "        geometry.append(elemento.geometry())\n",
    "        osm_type.append(elemento.type())\n",
    "        tags.append(elemento.tags())\n",
    "        \n",
    "    d = {'id':id, 'geometry':geometry, 'type':osm_type, 'tags':tags, }\n",
    "\n",
    "    df = pd.DataFrame(data = d, index = d['id'])\n",
    "    return df\n",
    "\n",
    "df_park = data_frame(park)\n",
    "df_bus = data_frame(busStop)\n",
    "df_square = data_frame(square)\n",
    "df_forest = data_frame(forest)\n",
    "df_metro = data_frame(metro_entrance)\n",
    "\n",
    "\n",
    "#Genera geodataframe\n",
    "gdf_park = gpd.GeoDataFrame(df_park, geometry='geometry')\n",
    "gdf_bus = gpd.GeoDataFrame(df_bus, geometry='geometry')\n",
    "df_square = gpd.GeoDataFrame(df_square, geometry='geometry')\n",
    "df_forest = gpd.GeoDataFrame(df_forest, geometry='geometry')\n",
    "df_metro = gpd.GeoDataFrame(df_metro, geometry='geometry')\n",
    "\n",
    "#Dibuja consulta\n",
    "fig, ax = plt.subplots (figsize = (25,25))\n",
    "gdf_park.plot(ax = ax, color='green')\n",
    "gdf_bus.plot(ax = ax, color='black')\n",
    "df_square.plot(ax = ax, color='red')\n",
    "df_forest.plot(ax = ax, color='darkgreen')\n",
    "df_metro.plot(ax = ax, color='blue')\n",
    "\n",
    "plt.show()"
   ]
  },
  {
   "cell_type": "code",
   "execution_count": null,
   "metadata": {},
   "outputs": [],
   "source": [
    "#FALTA CONVERTIR LAS COLUMNAS PROPIAS DE CADA DATASET A TAGS\n",
    "#RECONOCER LAS FILAS POR TIPO DE GEOMETRIA Y EXPORTAR"
   ]
  },
  {
   "cell_type": "code",
   "execution_count": null,
   "metadata": {},
   "outputs": [],
   "source": [
    "import requests\n",
    "#url = \"https://download.geofabrik.de/europe/spain/madrid-latest.osm.pbf\""
   ]
  },
  {
   "cell_type": "code",
   "execution_count": null,
   "metadata": {},
   "outputs": [],
   "source": [
    "#response = requests.get(url, stream=True)"
   ]
  },
  {
   "cell_type": "code",
   "execution_count": null,
   "metadata": {},
   "outputs": [],
   "source": [
    "#open(r\"C:\\Users\\ManuBenito\\Documents\\Walknet-DataLake\\temp\\madrid-latest.osm.pbf\", \"wb\").write(response.content)"
   ]
  },
  {
   "cell_type": "code",
   "execution_count": null,
   "metadata": {},
   "outputs": [],
   "source": [
    "routes = [\"bus\", \"ferry\", \"railway\", \"subway\", \"train\", \"tram\", \"trolleybus\"]\n",
    "rails = [\"tramway\", \"light_rail\", \"rail\", \"subway\", \"tram\"]\n",
    "bus = ['yes']\n",
    "queries = {\n",
    "    'transit':{'route': routes, 'railway': rails, 'bus': bus, 'public_transport': True},\n",
    "    'park' : {'leisure': ['park'],'landuse':['forest']}, \n",
    "    \n",
    "    }'square':{'place':['square'],'highway':['pedestrian']}"
   ]
  },
  {
   "cell_type": "code",
   "execution_count": null,
   "metadata": {},
   "outputs": [],
   "source": [
    "from pyrosm import OSM\n",
    "from pyrosm import get_data\n",
    "fp = get_data(\"madrid\")\n",
    "\n",
    "# Initialize the OSM parser object with test data from Helsinki\n",
    "osm = OSM(fp)\n",
    "\n",
    "osm_data = {key:osm.get_data_by_custom_criteria(custom_filter=query,\n",
    "                                        filter_type=\"keep\",\n",
    "                                        keep_nodes=True, \n",
    "                                        keep_ways=True, \n",
    "                                        keep_relations=True) for key,query in queries.items()}"
   ]
  },
  {
   "cell_type": "code",
   "execution_count": null,
   "metadata": {},
   "outputs": [],
   "source": [
    "cols = ['id','timestamp','lon','lat','category','name','tags','osm_type','geometry']\n",
    "for key, data in osm_data.items():\n",
    "    print(key)\n",
    "    data['category'] = key\n",
    "    if 'name' not in data.columns:\n",
    "        import ast\n",
    "        data['name'] = data['tags'].fillna('{\"no\":\"no\"}').apply(ast.literal_eval).str['name']\n",
    "        \n",
    "    osm_data[key] = data[cols]"
   ]
  },
  {
   "cell_type": "code",
   "execution_count": null,
   "metadata": {},
   "outputs": [],
   "source": [
    "import pandas as pd\n",
    "c = pd.concat(osm_data.values())"
   ]
  },
  {
   "cell_type": "code",
   "execution_count": null,
   "metadata": {},
   "outputs": [],
   "source": [
    "geom = c[c['id']==4263036]['geometry'].iloc[0]"
   ]
  },
  {
   "cell_type": "code",
   "execution_count": null,
   "metadata": {},
   "outputs": [],
   "source": [
    "from shapely.geometry import LineString, MultiLineString"
   ]
  },
  {
   "cell_type": "code",
   "execution_count": null,
   "metadata": {},
   "outputs": [],
   "source": [
    "def isring(geom):\n",
    "    if isinstance(geom,MultiLineString):\n",
    "        if tuple(round(x,5) for x in geom.geoms[0].coords[0]) == tuple(round(x,5) for x in geom.geoms[-1].coords[-1]):\n",
    "            return True\n",
    "        else:\n",
    "            return False\n",
    "    elif isinstance(geom,LineString):\n",
    "        if tuple(round(x,5) for x in geom.coords[0]) == tuple(round(x,5) for x in geom.coords[-1]):\n",
    "            return True\n",
    "        else:\n",
    "            return False\n",
    "    else:\n",
    "        False\n",
    "    "
   ]
  },
  {
   "cell_type": "code",
   "execution_count": null,
   "metadata": {},
   "outputs": [],
   "source": [
    "closering(geom)"
   ]
  },
  {
   "cell_type": "code",
   "execution_count": null,
   "metadata": {},
   "outputs": [],
   "source": [
    "c = c.loc[(c['category'].isin(['square','park']))&(c['geometry'].apply(lambda g: isring(g)))].assign(\n",
    "    geometry = lambda row: row['geometry'].convex_hull)\n",
    "                                                                       \n",
    "                                                                       \n",
    "#.isin(['LineString','MultiLineString']))].assign(\n",
    " #   geometry = lambda row: row['geometry'].convex_hull)\n"
   ]
  },
  {
   "cell_type": "code",
   "execution_count": null,
   "metadata": {},
   "outputs": [],
   "source": [
    "#c[(c['name'].fillna(\"\").str.contains('Plaza Mayor'))&(c['category']=='square')]\n",
    "c[c['id']==4263036]['geometry']"
   ]
  },
  {
   "cell_type": "code",
   "execution_count": null,
   "metadata": {},
   "outputs": [],
   "source": [
    "c.to_file(r\"C:\\Users\\ManuBenito\\Documents\\Walknet-DataLake\\temp\\test_osm.gpkg\", driver = 'GPKG')"
   ]
  },
  {
   "cell_type": "code",
   "execution_count": null,
   "metadata": {},
   "outputs": [],
   "source": [
    "\n",
    "c.to_file(r\"C:\\Users\\ManuBenito\\Documents\\Walknet-DataLake\\temp\\test_osm.gpkg\", driver = 'GPKG')\n",
    "#c[c['osm_type']=='node'].to_file(r\"C:\\Users\\ManuBenito\\Documents\\Walknet-DataLake\\temp\\points_osm.gpkg\", driver = 'GPKG')\n",
    "#c[c['osm_type']=='relation'].to_file(r\"C:\\Users\\ManuBenito\\Documents\\Walknet-DataLake\\temp\\polygons_osm.gpkg\", driver = 'GPKG')\n",
    "#c[c['osm_type']=='way'].to_file(r\"C:\\Users\\ManuBenito\\Documents\\Walknet-DataLake\\temp\\ways_osm.gpkg\", driver = 'GPKG')"
   ]
  },
  {
   "cell_type": "code",
   "execution_count": null,
   "metadata": {},
   "outputs": [],
   "source": [
    "osm_data['transit'].dtypes"
   ]
  },
  {
   "cell_type": "code",
   "execution_count": null,
   "metadata": {},
   "outputs": [],
   "source": [
    "osm_data['park'].columns"
   ]
  },
  {
   "cell_type": "code",
   "execution_count": null,
   "metadata": {},
   "outputs": [],
   "source": [
    "import ast\n",
    "osm_data['square']['tags'].fillna('{\"no\":\"no\"}').apply(ast.literal_eval).str['name']"
   ]
  },
  {
   "cell_type": "code",
   "execution_count": null,
   "metadata": {},
   "outputs": [],
   "source": [
    "osm_data['park'].fillna(\"\").query('name.str.contains(\"Retiro\")', engine='python')\n",
    "#df.query('column_name.str.contains(\"abc\")', engine='python')\n"
   ]
  },
  {
   "cell_type": "code",
   "execution_count": null,
   "metadata": {},
   "outputs": [],
   "source": [
    "#file = r\"C:\\Users\\ManuBenito\\Documents\\Walknet-DataLake\\temp\\madrid-latest.osm.pbf\""
   ]
  },
  {
   "cell_type": "code",
   "execution_count": null,
   "metadata": {},
   "outputs": [],
   "source": [
    "# Read natural\n",
    "# ============\n",
    "from pyrosm import OSM\n",
    "from pyrosm import get_data\n",
    "fp = get_data(\"madrid\")\n",
    "# Initialize the OSM parser object\n",
    "osm = OSM(fp)\n",
    "#natural = osm.get_natural()\n",
    "#natural.plot(column='natural', legend=True, figsize=(10,6))"
   ]
  },
  {
   "cell_type": "code",
   "execution_count": null,
   "metadata": {},
   "outputs": [],
   "source": [
    "from pyrosm import OSM\n",
    "from pyrosm import get_data\n",
    "fp = get_data(\"madrid\")\n",
    "\n",
    "# Initialize the OSM parser object with test data from Helsinki\n",
    "osm = OSM(fp)\n",
    "\n",
    "# Test reading all transit related data (bus, trains, trams, metro etc.)\n",
    "# Exclude nodes (not keeping stops, etc.)\n",
    "routes = [\"bus\", \"ferry\", \"railway\", \"subway\", \"train\", \"tram\", \"trolleybus\"]\n",
    "rails = [\"tramway\", \"light_rail\", \"rail\", \"subway\", \"tram\"]\n",
    "bus = ['yes']\n",
    "transit = osm.get_data_by_custom_criteria(custom_filter={\n",
    "                                        'route': routes,\n",
    "                                        'railway': rails,\n",
    "                                        'bus': bus,\n",
    "                                        'public_transport': True},\n",
    "                                        # Keep data matching the criteria above\n",
    "                                        filter_type=\"keep\",\n",
    "                                        # Do not keep nodes (point data)    \n",
    "                                        keep_nodes=False, \n",
    "                                        keep_ways=True, \n",
    "                                        keep_relations=True)"
   ]
  },
  {
   "cell_type": "code",
   "execution_count": null,
   "metadata": {},
   "outputs": [],
   "source": [
    "from pyrosm import OSM\n",
    "from pyrosm import get_data\n",
    "fp = get_data(\"madrid\")\n",
    "\n",
    "# Initialize the OSM parser object with test data from Helsinki\n",
    "osm = OSM(fp)"
   ]
  },
  {
   "cell_type": "code",
   "execution_count": null,
   "metadata": {},
   "outputs": [],
   "source": [
    "parks = osm.get_data_by_custom_criteria(custom_filter={\n",
    "                                        'leisure': ['park'],\n",
    "                                        'place':['square']},\n",
    "                                        filter_type=\"keep\",\n",
    "                                        # Do not keep nodes (point data)    \n",
    "                                        keep_nodes=True, \n",
    "                                        keep_ways=True, \n",
    "                                        keep_relations=True)"
   ]
  },
  {
   "cell_type": "code",
   "execution_count": null,
   "metadata": {},
   "outputs": [],
   "source": [
    "parks.plot(column='name')"
   ]
  },
  {
   "cell_type": "code",
   "execution_count": null,
   "metadata": {},
   "outputs": [],
   "source": [
    "parks.columns"
   ]
  },
  {
   "cell_type": "code",
   "execution_count": null,
   "metadata": {},
   "outputs": [],
   "source": [
    "for p in parks['name'].unique():\n",
    "    print(p)"
   ]
  },
  {
   "cell_type": "code",
   "execution_count": null,
   "metadata": {},
   "outputs": [],
   "source": []
  }
 ],
 "metadata": {
  "kernelspec": {
   "display_name": "Python 3",
   "language": "python",
   "name": "python3"
  },
  "language_info": {
   "codemirror_mode": {
    "name": "ipython",
    "version": 3
   },
   "file_extension": ".py",
   "mimetype": "text/x-python",
   "name": "python",
   "nbconvert_exporter": "python",
   "pygments_lexer": "ipython3",
   "version": "3.10.6"
  },
  "orig_nbformat": 4,
  "vscode": {
   "interpreter": {
    "hash": "824dd75ae52533d501c48caddb3c0ff1ec19c5804a5e404fe3c18da134102c64"
   }
  }
 },
 "nbformat": 4,
 "nbformat_minor": 2
}
