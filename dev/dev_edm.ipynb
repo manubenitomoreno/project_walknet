{
 "cells": [
  {
   "cell_type": "code",
   "execution_count": 59,
   "metadata": {},
   "outputs": [],
   "source": [
    "import pandas as pd\n",
    "import geopandas as gpd\n",
    "import matplotlib.pyplot as plt\n",
    "import itertools\n",
    "from shapely.geometry import Point, LineString\n",
    "pd.set_option('display.max_rows', 150)\n",
    "#plt.style.use('')\n",
    "import numpy as np\n",
    "import re \n"
   ]
  },
  {
   "cell_type": "code",
   "execution_count": 60,
   "metadata": {},
   "outputs": [],
   "source": [
    "files = {'viajes':'EDM2018VIAJES','individuos':'EDM2018INDIVIDUOS','hogares':'EDM2018HOGARES','etapas':'EDM2018XETAPAS'}\n",
    "schemas = {\n",
    "    'etapas':{\n",
    "        'ID_HOGAR':int,\n",
    "        'ID_IND':int,\n",
    "        'ID_VIAJE':int,\n",
    "        'ID_ETAPA':int,\n",
    "        'EMODO':int,\n",
    "        'EMODO1':str,\n",
    "        'MODO_PRIORITARIO':int,\n",
    "        'MODO':int,\n",
    "        'ELINEAEMPRESA_ORIGINAL':str,\n",
    "        'ESUBIDA':str,\n",
    "        'ESUBIDA_cod':str,\n",
    "        'EBAJADA':str,\n",
    "        'EBAJADA_cod':str,\n",
    "        'ETITULO':str,\n",
    "        'EESTACIONA':str,\n",
    "        'EOCUPACION':str,\n",
    "        'ETDESPH':str,\n",
    "        'TIPO_ENCUESTA':str,\n",
    "        'COD_MUN_PARADA':str,\n",
    "        'ELE_G_POND_Esc2':float},\n",
    "    'viajes':{\n",
    "        'ID_HOGAR': int,\n",
    "        'ID_IND': int,\n",
    "        'ID_VIAJE': int,\n",
    "        'VORI': int,\n",
    "        'VORIHORAINI': int,\n",
    "        'VDES': int,\n",
    "        'VDESHORAFIN': int,\n",
    "        'VFRECUENCIA': int,\n",
    "        'VVEHICULO': float,\n",
    "        'VNOPRIVADO': float,\n",
    "        'VNOPUBLICO': float,\n",
    "        'VORIZT1259': str,\n",
    "        'VDESZT1259': str,\n",
    "        'TIPO_ENCUESTA': str,\n",
    "        'N_ETAPAS_POR_VIAJE': int,\n",
    "        'MOTIVO_PRIORITARIO': int,\n",
    "        'DISTANCIA_VIAJE': float,\n",
    "        'MODO_PRIORITARIO': int,\n",
    "        'ELE_G_POND_ESC2': float},\n",
    "    'individuos':{\n",
    "        'ID_HOGAR':int,\n",
    "        'ID_IND':int,\n",
    "        'C2SEXO':int,\n",
    "        'EDAD_FIN':int,\n",
    "        'ELE_G_POND':float,\n",
    "        'C4NAC':int,\n",
    "        'C5CAM':int,\n",
    "        'C6CARNE':int,\n",
    "        'C7ESTUD':int,\n",
    "        'C8ACTIV':int,\n",
    "        'C9PROF':str,\n",
    "        'C10SECTOR':str,\n",
    "        'C13TARJETA':int,\n",
    "        'C14ABONO':str,\n",
    "        'DDIA':int,\n",
    "        'DMES':int,\n",
    "        'DANNO':int,\n",
    "        'DIASEM':int,\n",
    "        'DNOVIAJO':str,\n",
    "        'C11ZT1259':str,\n",
    "        'C12ZT1259':str,\n",
    "        'CPMR':int,\n",
    "        'TIPO_ENCUESTA':str},\n",
    "    'hogares':{\n",
    "        'ID_HOGAR':int,\n",
    "        'CODMUNI':int,\n",
    "        'NOMMUNI':str,\n",
    "        'CODPROV':str,\n",
    "        'NOMPROV':str,\n",
    "        'ZT1259':str,\n",
    "        'CZ208':str,\n",
    "        'ELE_HOGAR_NUEVO':float,\n",
    "        'TIPO_ENCUESTA':str,\n",
    "        'A1PER':int,\n",
    "        'A2PER4':int,\n",
    "        'B1NVE':int,\n",
    "        'V1B11TIPO':str,\n",
    "        'V1B12CARB':str,\n",
    "        'V1B13EST':str,\n",
    "        'V2B11TIPO1':str,\n",
    "        'V2B12CARB1':str,\n",
    "        'V2B13EST1':str,\n",
    "        'V3B11TIPO1':str,\n",
    "        'V3B12CARB1':str,\n",
    "        'V3B13EST1':str,\n",
    "        'V4B11TIPO1':str,\n",
    "        'V4B12CARB1':str,\n",
    "        'V4B13EST1':str,\n",
    "        'V5B11TIPO1':str,\n",
    "        'V5B12CARB1':str,\n",
    "        'V5B13EST1':str,\n",
    "        'N_MIEMBROS_POR_HOGAR':int,\n",
    "        'N_VIAJES_POR_HOGAR':int},\n",
    "        }"
   ]
  },
  {
   "cell_type": "code",
   "execution_count": 61,
   "metadata": {},
   "outputs": [],
   "source": [
    "path = r\"C:\\Users\\ManuBenito\\Documents\\Walknet-DataLake\\sources\\edm2018\\level0\""
   ]
  },
  {
   "cell_type": "code",
   "execution_count": 62,
   "metadata": {},
   "outputs": [],
   "source": [
    "data = {n:pd.read_excel(\n",
    "    r\"{path}\\trips\\{p}.xlsx\".format(path=path,p=p), sheet_name = n.upper(),dtype=schemas[n]\n",
    "    ) for n,p in files.items()}\n"
   ]
  },
  {
   "cell_type": "code",
   "execution_count": 77,
   "metadata": {},
   "outputs": [],
   "source": [
    "codes = {n:pd.read_excel(\n",
    "    r\"{path}\\trips\\{p}.xlsx\".format(path=path,p=p), sheet_name = 'LIBRO DE CODIGOS', header = 0, usecols = ['VARIABLE','VALORES'],skiprows=[1,2], engine ='openpyxl'\n",
    "    ) for n,p in files.items()}"
   ]
  },
  {
   "cell_type": "code",
   "execution_count": 78,
   "metadata": {},
   "outputs": [],
   "source": [
    "def fill_in_order(df):\n",
    "    fill = ''\n",
    "    for i,r in df.iterrows():\n",
    "        if not pd.isnull(r['VARIABLE']):\n",
    "            fill = r['VARIABLE']\n",
    "        else:\n",
    "            df.at[i,'VARIABLE'] = fill\n",
    "    return df\n"
   ]
  },
  {
   "cell_type": "code",
   "execution_count": 79,
   "metadata": {},
   "outputs": [],
   "source": [
    "codes = {k:fill_in_order(df.query('VALORES.notnull()', engine='python')) for k,df in codes.items()}"
   ]
  },
  {
   "cell_type": "code",
   "execution_count": 80,
   "metadata": {},
   "outputs": [],
   "source": [
    "def parse_codes(df):\n",
    "    df['CODIGO'] = df['VALORES'].str.extract(r\"\"\"(?m)^(\\d+).*\"\"\").astype(int)\n",
    "    df['LITERAL'] = df['VALORES'].str.split(r\"\"\"^[^A-Z]*\"\"\").str[1].str.strip().str.removesuffix(r\"\"\"'\"\"\").str.strip()\n",
    "    return df[['VARIABLE','CODIGO','LITERAL']]"
   ]
  },
  {
   "cell_type": "code",
   "execution_count": 81,
   "metadata": {},
   "outputs": [],
   "source": [
    "codes = {k:parse_codes(df) for k,df in codes.items()}"
   ]
  },
  {
   "cell_type": "code",
   "execution_count": 82,
   "metadata": {},
   "outputs": [],
   "source": [
    "codes = {n: {k : g.LITERAL.to_dict() for k, g in df.set_index('CODIGO').groupby('VARIABLE')} for n,df in codes.items()}"
   ]
  },
  {
   "cell_type": "code",
   "execution_count": 84,
   "metadata": {},
   "outputs": [],
   "source": [
    "def map_columns(df,mapper):\n",
    "    for c in [x for x in df.columns if x in mapper.keys()]:\n",
    "        df[c] = df[c].replace(mapper[c])\n",
    "    return df"
   ]
  },
  {
   "cell_type": "code",
   "execution_count": 85,
   "metadata": {},
   "outputs": [],
   "source": [
    "data = {k:map_columns(df,codes[k]) for k,df in data.items()}"
   ]
  },
  {
   "cell_type": "code",
   "execution_count": 87,
   "metadata": {},
   "outputs": [],
   "source": [
    "final = pd.merge(data['etapas'],data['viajes'], on=['ID_HOGAR','ID_IND','ID_VIAJE'], how='left', suffixes=(\"\",\"_x\"))\n",
    "final = final[[c for c in final.columns if not c.endswith(\"_x\")]]"
   ]
  },
  {
   "cell_type": "code",
   "execution_count": 88,
   "metadata": {},
   "outputs": [],
   "source": [
    "final = pd.merge(data['individuos'], final, on=['ID_HOGAR','ID_IND'], how='right',suffixes=(\"\",\"_x\"))\n",
    "final = final[[c for c in final.columns if not c.endswith(\"_x\")]]"
   ]
  },
  {
   "cell_type": "code",
   "execution_count": 89,
   "metadata": {},
   "outputs": [],
   "source": [
    "final = pd.merge(data['hogares'],final, on=['ID_HOGAR'], how='left',suffixes=(\"\",\"_x\"))\n",
    "final = final[[c for c in final.columns if not c.endswith(\"_x\")]]"
   ]
  },
  {
   "cell_type": "code",
   "execution_count": null,
   "metadata": {},
   "outputs": [],
   "source": [
    "for c in final.columns:\n",
    "    if final[c].dtype == str:\n",
    "        final[c] = final[c].fillna(\"\")\n",
    "    else:\n",
    "        final[c] = final[c].fillna(0)    "
   ]
  },
  {
   "cell_type": "code",
   "execution_count": null,
   "metadata": {},
   "outputs": [],
   "source": [
    "#data.set_index(['ID_HOGAR','ID_IND','ID_VIAJE'],inplace=True)"
   ]
  },
  {
   "cell_type": "code",
   "execution_count": null,
   "metadata": {},
   "outputs": [],
   "source": [
    "#data.to_csv(r\"C:\\Users\\ManuBenito\\Documents\\Walknet-DataLake\\sources\\spain\\mobility\\edm2018\\level1\\level1_edm2018_con_etapas.csv\",sep=\";\")"
   ]
  },
  {
   "cell_type": "code",
   "execution_count": null,
   "metadata": {},
   "outputs": [],
   "source": [
    "data = pd.read_csv(r\"C:\\Users\\ManuBenito\\Documents\\Walknet-DataLake\\sources\\spain\\mobility\\edm2018\\level1\\level1_edm2018.csv\",sep=\";\")"
   ]
  },
  {
   "cell_type": "code",
   "execution_count": null,
   "metadata": {},
   "outputs": [],
   "source": [
    "data.info()"
   ]
  },
  {
   "cell_type": "code",
   "execution_count": null,
   "metadata": {},
   "outputs": [],
   "source": [
    "len(data)"
   ]
  },
  {
   "cell_type": "code",
   "execution_count": null,
   "metadata": {},
   "outputs": [],
   "source": [
    "data.MODO_PRIORITARIO.unique()"
   ]
  },
  {
   "cell_type": "code",
   "execution_count": null,
   "metadata": {},
   "outputs": [],
   "source": [
    "ped = data.loc[data['MODO_PRIORITARIO'] =='Andando/pie']"
   ]
  },
  {
   "cell_type": "code",
   "execution_count": null,
   "metadata": {},
   "outputs": [],
   "source": [
    "ped['ONE'] = 1"
   ]
  },
  {
   "cell_type": "code",
   "execution_count": null,
   "metadata": {},
   "outputs": [],
   "source": [
    "sns.countplot(y=\"MOTIVO_PRIORITARIO\", data=ped)"
   ]
  },
  {
   "cell_type": "code",
   "execution_count": null,
   "metadata": {},
   "outputs": [],
   "source": [
    "sns.countplot(y=\"VNOPUBLICO\", data=ped)"
   ]
  },
  {
   "cell_type": "code",
   "execution_count": null,
   "metadata": {},
   "outputs": [],
   "source": [
    "sns.countplot(y=\"VNOPRIVADO\", data=ped,orient='v')"
   ]
  },
  {
   "cell_type": "code",
   "execution_count": null,
   "metadata": {},
   "outputs": [],
   "source": [
    "sns.countplot(y=\"C7ESTUD\", data=ped,orient='v')"
   ]
  },
  {
   "cell_type": "code",
   "execution_count": null,
   "metadata": {},
   "outputs": [],
   "source": [
    "sns.countplot(y=\"C8ACTIV\", data=ped,orient='v')"
   ]
  },
  {
   "cell_type": "code",
   "execution_count": null,
   "metadata": {},
   "outputs": [],
   "source": [
    "sns.countplot(y=\"VFRECUENCIA\", data=ped,orient='v')"
   ]
  },
  {
   "cell_type": "code",
   "execution_count": null,
   "metadata": {},
   "outputs": [],
   "source": [
    "sns.countplot(x=\"C2SEXO\", data=ped)"
   ]
  },
  {
   "cell_type": "code",
   "execution_count": null,
   "metadata": {},
   "outputs": [],
   "source": [
    "figure = plt.figure(figsize=(5.2,3.7))\n",
    "plt.hist([ped[ped['C2SEXO']=='Mujer']['VORIHORAINI'], ped[ped['C2SEXO']=='Hombre']['VORIHORAINI']], stacked=False, bins=24, label=['Mujer','Hombre'])\n",
    "plt.xlabel('Hour')\n",
    "plt.ylabel('Sex')\n",
    "plt.legend()"
   ]
  },
  {
   "cell_type": "code",
   "execution_count": null,
   "metadata": {},
   "outputs": [],
   "source": [
    "ped.MOTIVO_PRIORITARIO.unique()"
   ]
  },
  {
   "cell_type": "code",
   "execution_count": null,
   "metadata": {},
   "outputs": [],
   "source": [
    "figure = plt.figure(figsize=(5.2,3.7))\n",
    "plt.hist([ped[ped['MOTIVO_PRIORITARIO']=='Compras']['EDAD_FIN'],\n",
    "          ped[ped['MOTIVO_PRIORITARIO']=='Ocio']['EDAD_FIN'],\n",
    "          ped[ped['MOTIVO_PRIORITARIO']=='Estudio']['EDAD_FIN'],\n",
    "          ped[ped['MOTIVO_PRIORITARIO']=='Deporte/ dar un paseo']['EDAD_FIN'],\n",
    "          ped[ped['MOTIVO_PRIORITARIO'].isin(['Acompañamiento a otra persona','Médico'])]['EDAD_FIN'],\n",
    "          ped[ped['MOTIVO_PRIORITARIO'].isin(['Casa','Trabajo','Gestión de trabajo'])]['EDAD_FIN'],\n",
    "         ped[ped['MOTIVO_PRIORITARIO'].isin(['Asunto personal','Otro domicilio','Otros'])]['EDAD_FIN']],\n",
    "         stacked=True, bins=100, label=['Compras','Ocio','Estudio','Deporte/Paseo','Cuidados','Trabajo','Otros'])\n",
    "plt.xlabel('Age')\n",
    "plt.ylabel('Motivo')\n",
    "plt.legend()\n",
    "#plt.savefig(\"C:\\\\Users\\\\manub\\\\DATA\\\\00-EXTERNO\\MANU\\TODOS_MOTIVO_EDAD.png\")"
   ]
  },
  {
   "cell_type": "code",
   "execution_count": null,
   "metadata": {},
   "outputs": [],
   "source": [
    "ped_muj = ped.loc[ped['C2SEXO']=='Mujer']\n",
    "ped_hom = ped.loc[ped['C2SEXO']=='Hombre']"
   ]
  },
  {
   "cell_type": "code",
   "execution_count": null,
   "metadata": {},
   "outputs": [],
   "source": [
    "figure = plt.figure(figsize=(5.2,3.7))\n",
    "axes = plt.gca()\n",
    "axes.set_ylim([0,2500])\n",
    "plt.hist([ped_muj[ped_muj['MOTIVO_PRIORITARIO']=='Compras']['EDAD_FIN'],\n",
    "          ped_muj[ped_muj['MOTIVO_PRIORITARIO']=='Ocio']['EDAD_FIN'],\n",
    "          ped_muj[ped_muj['MOTIVO_PRIORITARIO']=='Estudio']['EDAD_FIN'],\n",
    "          ped_muj[ped_muj['MOTIVO_PRIORITARIO']=='Deporte/ dar un paseo']['EDAD_FIN'],\n",
    "          ped_muj[ped_muj['MOTIVO_PRIORITARIO'].isin(['Acompañamiento a otra persona','Médico'])]['EDAD_FIN'],\n",
    "          ped_muj[ped_muj['MOTIVO_PRIORITARIO'].isin(['Casa','Trabajo','Gestión de trabajo'])]['EDAD_FIN'],\n",
    "         ped_muj[ped_muj['MOTIVO_PRIORITARIO'].isin(['Asunto personal','Otro domicilio','Otros'])]['EDAD_FIN']],\n",
    "         stacked=True, bins=100, label=['Compras','Ocio','Estudio','Deporte/Paseo','Cuidados','Trabajo','Otros'])\n",
    "plt.xlabel('Age')\n",
    "plt.ylabel('Motivo')\n",
    "plt.legend()\n",
    "#plt.savefig(\"C:\\\\Users\\\\manub\\\\DATA\\\\00-EXTERNO\\MANU\\MUJERES_MOTIVO_EDAD.png\")"
   ]
  },
  {
   "cell_type": "code",
   "execution_count": null,
   "metadata": {},
   "outputs": [],
   "source": [
    "figure = plt.figure(figsize=(5.2,3.7))\n",
    "axes = plt.gca()\n",
    "axes.set_ylim([0,2500])\n",
    "plt.hist([ped_hom[ped_hom['MOTIVO_PRIORITARIO']=='Compras']['EDAD_FIN'],\n",
    "          ped_hom[ped_hom['MOTIVO_PRIORITARIO']=='Ocio']['EDAD_FIN'],\n",
    "          ped_hom[ped_hom['MOTIVO_PRIORITARIO']=='Estudio']['EDAD_FIN'],\n",
    "          ped_hom[ped_hom['MOTIVO_PRIORITARIO']=='Deporte/ dar un paseo']['EDAD_FIN'],\n",
    "          ped_hom[ped_hom['MOTIVO_PRIORITARIO'].isin(['Acompañamiento a otra persona','Médico'])]['EDAD_FIN'],\n",
    "          ped_hom[ped_hom['MOTIVO_PRIORITARIO'].isin(['Casa','Trabajo','Gestión de trabajo'])]['EDAD_FIN'],\n",
    "         ped_hom[ped_hom['MOTIVO_PRIORITARIO'].isin(['Asunto personal','Otro domicilio','Otros'])]['EDAD_FIN']],\n",
    "         stacked=True, bins=100, label=['Compras','Ocio','Estudio','Deporte/Paseo','Cuidados','Trabajo','Otros'])\n",
    "plt.xlabel('Age')\n",
    "plt.ylabel('Motivo')\n",
    "plt.legend()\n",
    "#plt.savefig(\"C:\\\\Users\\\\manub\\\\DATA\\\\00-EXTERNO\\MANU\\HOMBRES_MOTIVO_EDAD.png\")"
   ]
  },
  {
   "cell_type": "code",
   "execution_count": null,
   "metadata": {},
   "outputs": [],
   "source": []
  },
  {
   "cell_type": "code",
   "execution_count": null,
   "metadata": {},
   "outputs": [],
   "source": [
    "sns.countplot(y=\"C8ACTIV\", data=ped,orient='v')"
   ]
  },
  {
   "cell_type": "code",
   "execution_count": null,
   "metadata": {},
   "outputs": [],
   "source": [
    "ped['EDAD_FIN'].hist(bins=100)"
   ]
  },
  {
   "cell_type": "code",
   "execution_count": null,
   "metadata": {},
   "outputs": [],
   "source": [
    "sns.displot(ped, x=\"EDAD_FIN\", hue=\"MOTIVO_PRIORITARIO\", kind=\"kde\", multiple=\"stack\",)"
   ]
  },
  {
   "cell_type": "code",
   "execution_count": null,
   "metadata": {},
   "outputs": [],
   "source": [
    "sns.displot(ped.loc[ped[\"DISTANCIA_VIAJE\"]<5], x=\"DISTANCIA_VIAJE\", hue=\"MOTIVO_PRIORITARIO\", kind=\"kde\", multiple=\"stack\")"
   ]
  },
  {
   "cell_type": "code",
   "execution_count": null,
   "metadata": {},
   "outputs": [],
   "source": [
    "sns.displot(ped.loc[ped[\"DISTANCIA_VIAJE\"]<2], x=\"DISTANCIA_VIAJE\", hue=\"VNOPRIVADO\", kind=\"kde\", multiple=\"stack\")"
   ]
  },
  {
   "cell_type": "code",
   "execution_count": null,
   "metadata": {},
   "outputs": [],
   "source": [
    "sns.displot(ped.loc[ped[\"DISTANCIA_VIAJE\"]<2], x=\"DISTANCIA_VIAJE\", hue=\"VNOPUBLICO\", kind=\"kde\", multiple=\"stack\")"
   ]
  },
  {
   "cell_type": "code",
   "execution_count": null,
   "metadata": {},
   "outputs": [],
   "source": [
    "sns.displot(data.loc[data[\"DISTANCIA_VIAJE\"]<5], x=\"DISTANCIA_VIAJE\", hue=\"MODO_PRIORITARIO\", kind=\"kde\", multiple=\"stack\")"
   ]
  },
  {
   "cell_type": "code",
   "execution_count": null,
   "metadata": {},
   "outputs": [],
   "source": [
    "sns.displot(data.loc[data[\"DISTANCIA_VIAJE\"]<5], x=\"DISTANCIA_VIAJE\", hue=\"MOTIVO_PRIORITARIO\", kind=\"kde\", multiple=\"stack\")"
   ]
  },
  {
   "cell_type": "markdown",
   "metadata": {},
   "source": [
    "## Zonas"
   ]
  },
  {
   "cell_type": "code",
   "execution_count": null,
   "metadata": {},
   "outputs": [],
   "source": [
    "zonas = gpd.read_file(r\"C:\\Users\\ManuBenito\\Documents\\Walknet-DataLake\\sources\\spain\\mobility\\edm2018\\level0\\spatialdata\\ZonificacionZT1259.geojson\")\n",
    "zonas = zonas.to_crs({'init': 'epsg:25830'})\n",
    "#zonas_point = zonas.copy()\n",
    "#zonas_point['geometry'] = zonas_point['geometry'].representative_point()"
   ]
  },
  {
   "cell_type": "code",
   "execution_count": null,
   "metadata": {},
   "outputs": [],
   "source": [
    "zonas.columns"
   ]
  },
  {
   "cell_type": "code",
   "execution_count": null,
   "metadata": {},
   "outputs": [],
   "source": [
    "zonas.plot(column='ZT1259')"
   ]
  },
  {
   "cell_type": "code",
   "execution_count": null,
   "metadata": {},
   "outputs": [],
   "source": [
    "usos = gpd.read_file(r\"C:\\Users\\ManuBenito\\Documents\\Walknet-DataLake\\sources\\spain\\landuse\\catastro\\level1\\PORTALES_AMM_CDATA.shp\")"
   ]
  },
  {
   "cell_type": "code",
   "execution_count": null,
   "metadata": {},
   "outputs": [],
   "source": [
    "parcelas = gpd.read_file(r\"C:\\Users\\ManuBenito\\Documents\\Walknet-DataLake\\sources\\spain\\landuse\\catastro\\level1\\PARCELAS_AMM_USOS.shp\")"
   ]
  },
  {
   "cell_type": "code",
   "execution_count": null,
   "metadata": {},
   "outputs": [],
   "source": [
    "clc = gpd.read_file(r\"C:\\Users\\ManuBenito\\Documents\\Walknet-DataLake\\sources\\spain\\landuse\\clc\\CLC18_AMM.shp\")"
   ]
  },
  {
   "cell_type": "code",
   "execution_count": null,
   "metadata": {},
   "outputs": [],
   "source": [
    "clc = clc.loc[clc['Code_18'].isin(['111','112','121'])]"
   ]
  },
  {
   "cell_type": "code",
   "execution_count": null,
   "metadata": {},
   "outputs": [],
   "source": [
    "clc = clc.dissolve(by='Cod_Prov')"
   ]
  },
  {
   "cell_type": "code",
   "execution_count": null,
   "metadata": {},
   "outputs": [],
   "source": [
    "usos=usos.to_crs({'init': 'epsg:25830'})\n",
    "parcelas=parcelas.to_crs({'init': 'epsg:25830'})\n",
    "clc=clc.to_crs({'init': 'epsg:25830'})"
   ]
  },
  {
   "cell_type": "code",
   "execution_count": null,
   "metadata": {},
   "outputs": [],
   "source": [
    "#res_intersection = gpd.overlay(parcelas, clc, how='intersection')\n",
    "#res_intersection = res_intersection.dissolve(by='REFCAT',as_index=False)\n",
    "#res_intersection.to_file(r\"C:\\Users\\ManuBenito\\Documents\\Walknet-DataLake\\sources\\spain\\landuse\\catastro\\level1\\developed.gpkg\",driver='GPKG')"
   ]
  },
  {
   "cell_type": "code",
   "execution_count": null,
   "metadata": {},
   "outputs": [],
   "source": [
    "parcelas_developed = gpd.read_file(r\"C:\\Users\\ManuBenito\\Documents\\Walknet-DataLake\\sources\\spain\\landuse\\catastro\\level1\\developed.gpkg\")"
   ]
  },
  {
   "cell_type": "code",
   "execution_count": null,
   "metadata": {},
   "outputs": [],
   "source": [
    "#parcelas_developed = res_intersection.copy()"
   ]
  },
  {
   "cell_type": "code",
   "execution_count": null,
   "metadata": {},
   "outputs": [],
   "source": [
    "parcelas_developed"
   ]
  },
  {
   "cell_type": "code",
   "execution_count": null,
   "metadata": {},
   "outputs": [],
   "source": [
    "parcelas_developed['area_ha']=(parcelas_developed['geometry'].area)/10000"
   ]
  },
  {
   "cell_type": "code",
   "execution_count": null,
   "metadata": {},
   "outputs": [],
   "source": [
    "parcelas_developed = parcelas_developed[['REFCAT','area_ha','geometry']]"
   ]
  },
  {
   "cell_type": "code",
   "execution_count": null,
   "metadata": {},
   "outputs": [],
   "source": [
    "#zonas_amm = zonas.loc[zonas['AMM']==1]\n",
    "zonas_amm = zonas.copy()"
   ]
  },
  {
   "cell_type": "code",
   "execution_count": null,
   "metadata": {},
   "outputs": [],
   "source": [
    "#usos.loc[usos['PCAT'].isin(parcelas_developed['REFCAT'].unique())]"
   ]
  },
  {
   "cell_type": "code",
   "execution_count": null,
   "metadata": {},
   "outputs": [],
   "source": [
    "poblacion = pd.read_parquet(r\"C:\\Users\\ManuBenito\\Documents\\Walknet-DataLake\\sources\\spain\\demographics\\ine_adrh\\ine_atlasrenta\\level1_spain_ine_atlasrenta_census tract_2018.parquet\")\n",
    "geometry = gpd.read_file(r\"C:\\Users\\ManuBenito\\Documents\\Walknet-DataLake\\sources\\spain\\demographics\\level1_geo_census tract_code_2018.gpkg\")"
   ]
  },
  {
   "cell_type": "code",
   "execution_count": null,
   "metadata": {},
   "outputs": [],
   "source": [
    "poblacion = pd.merge(geometry,poblacion,on='census tract_code_2018',how='left',suffixes=('',\"_x\"))\n",
    "poblacion = poblacion[poblacion['province_code_2018']=='28']\n"
   ]
  },
  {
   "cell_type": "code",
   "execution_count": null,
   "metadata": {},
   "outputs": [],
   "source": [
    "poblacion = poblacion[['Indicadores demográficos_units_Edad media de la población_Personas,   %,   Años_2018',\n",
    "'Indicadores demográficos_units_Población_Personas,   %,   Años_2018',\n",
    "'Indicadores demográficos_units_Porcentaje de hogares unipersonales_Personas,   %,   Años_2018',\n",
    "'Indicadores demográficos_units_Porcentaje de población de 65 y más años_Personas,   %,   Años_2018',\n",
    "'Indicadores demográficos_units_Porcentaje de población menor de 18 años_Personas,   %,   Años_2018',\n",
    "'Indicadores demográficos_units_Tamaño medio del hogar_Personas,   %,   Años_2018',\n",
    "'Indicadores de renta media y mediana_units_Renta bruta media por hogar_€_2018',\n",
    "'Indicadores de renta media y mediana_units_Renta bruta media por persona_€_2018',\n",
    "'Indicadores de renta media y mediana_units_Renta neta media por hogar_€_2018',\n",
    "'Indicadores de renta media y mediana_units_Renta neta media por persona_€_2018',\n",
    "'Indicadores de renta media y mediana_units_Media de la renta por unidad de consumo_€_2018',\n",
    "'Indicadores de renta media y mediana_units_Mediana de la renta por unidad de consumo_€_2018',\n",
    "'Indicadores de renta media y mediana_units_Renta mediana por hogar_€_2018','geometry']]"
   ]
  },
  {
   "cell_type": "code",
   "execution_count": null,
   "metadata": {},
   "outputs": [],
   "source": [
    "poblacion = poblacion.to_crs({'init': 'epsg:25830'})"
   ]
  },
  {
   "cell_type": "code",
   "execution_count": null,
   "metadata": {},
   "outputs": [],
   "source": [
    "poblacion"
   ]
  },
  {
   "cell_type": "code",
   "execution_count": null,
   "metadata": {},
   "outputs": [],
   "source": [
    "poblacion.plot(column='Indicadores de renta media y mediana_units_Media de la renta por unidad de consumo_€_2018')"
   ]
  },
  {
   "cell_type": "code",
   "execution_count": null,
   "metadata": {},
   "outputs": [],
   "source": [
    "usos_poblacion = gpd.sjoin(usos,poblacion,how='left',op='intersects')"
   ]
  },
  {
   "cell_type": "code",
   "execution_count": null,
   "metadata": {},
   "outputs": [],
   "source": [
    "fig,ax = plt.subplots(figsize=(20,20))\n",
    "usos_poblacion.plot(markersize=0.05,ax=ax,c='black',zorder=2)\n",
    "zonas_amm.plot(ax=ax,zorder=0)\n",
    "parcelas_developed.plot(ax=ax,zorder=1,color='red')"
   ]
  },
  {
   "cell_type": "code",
   "execution_count": null,
   "metadata": {},
   "outputs": [],
   "source": [
    "usos_poblacion = usos_poblacion.replace(-999,np.nan)"
   ]
  },
  {
   "cell_type": "code",
   "execution_count": null,
   "metadata": {},
   "outputs": [],
   "source": [
    "usos_poblacion['POBLACION_TOTAL'] = usos_poblacion['NV'] * usos_poblacion['Indicadores demográficos_units_Tamaño medio del hogar_Personas,   %,   Años_2018']\n",
    "usos_poblacion['TAMANO HOGAR'] = usos_poblacion['Indicadores demográficos_units_Tamaño medio del hogar_Personas,   %,   Años_2018']\n",
    "usos_poblacion['RENTA_TOTAL'] = usos_poblacion['Indicadores de renta media y mediana_units_Renta bruta media por persona_€_2018'] * usos_poblacion['POBLACION_TOTAL']\n",
    "usos_poblacion['MENORES_TOTAL'] = (usos_poblacion['POBLACION_TOTAL']*usos_poblacion['Indicadores demográficos_units_Porcentaje de población menor de 18 años_Personas,   %,   Años_2018'])/100\n",
    "usos_poblacion['MAYORES_TOTAL'] = (usos_poblacion['POBLACION_TOTAL']*usos_poblacion['Indicadores demográficos_units_Porcentaje de población de 65 y más años_Personas,   %,   Años_2018'])/100"
   ]
  },
  {
   "cell_type": "code",
   "execution_count": null,
   "metadata": {},
   "outputs": [],
   "source": [
    "len(usos_poblacion)"
   ]
  },
  {
   "cell_type": "code",
   "execution_count": null,
   "metadata": {},
   "outputs": [],
   "source": [
    "#usos_poblacion.drop(columns=['index_right'],inplace=True)"
   ]
  },
  {
   "cell_type": "code",
   "execution_count": null,
   "metadata": {},
   "outputs": [],
   "source": [
    "zonas_usos_poblacion= gpd.sjoin(zonas_amm,usos_poblacion,op='intersects',how='right')"
   ]
  },
  {
   "cell_type": "code",
   "execution_count": null,
   "metadata": {},
   "outputs": [],
   "source": [
    "map_usos = {'Viviendas':['V'],'Compras':['C'],'Ocio':['G'],'Estudio':['E'],'Deporte/Paseo':['K'],'Cuidados':['Y','E'],'Trabajo':['C','O','P']}"
   ]
  },
  {
   "cell_type": "code",
   "execution_count": null,
   "metadata": {},
   "outputs": [],
   "source": [
    "zonas_usos_poblacion = zonas_usos_poblacion.groupby('ZT1259').sum()[['NA', 'NB', 'NC',\n",
    "       'NE', 'NG', 'NI', 'NJ', 'NK', 'NM', 'NO', 'NP', 'NR', 'NT', 'NV', 'NY',\n",
    "       'NZ', 'SA', 'SB', 'SC', 'SE', 'SG', 'SI', 'SJ', 'SK', 'SM', 'SO', 'SP',\n",
    "       'SR', 'ST', 'SV', 'SY', 'SZ', 'SCONS','POBLACION_TOTAL','RENTA_TOTAL',\n",
    "       'MENORES_TOTAL', 'MAYORES_TOTAL']]\n"
   ]
  },
  {
   "cell_type": "code",
   "execution_count": null,
   "metadata": {},
   "outputs": [],
   "source": []
  },
  {
   "cell_type": "code",
   "execution_count": null,
   "metadata": {},
   "outputs": [],
   "source": [
    "zonas_usos_poblacion['RENTA_MEDIA'] = zonas_usos_poblacion['RENTA_TOTAL'] / zonas_usos_poblacion['POBLACION_TOTAL']\n",
    "zonas_usos_poblacion['PROP_MAYORES'] = (zonas_usos_poblacion['MAYORES_TOTAL']*100) / zonas_usos_poblacion['POBLACION_TOTAL']\n",
    "zonas_usos_poblacion['PROP_MENORES'] = (zonas_usos_poblacion['MENORES_TOTAL']*100) / zonas_usos_poblacion['POBLACION_TOTAL']"
   ]
  },
  {
   "cell_type": "code",
   "execution_count": null,
   "metadata": {},
   "outputs": [],
   "source": [
    "clc.plot()"
   ]
  },
  {
   "cell_type": "code",
   "execution_count": null,
   "metadata": {},
   "outputs": [],
   "source": [
    "clc = clc[['geometry']]"
   ]
  },
  {
   "cell_type": "code",
   "execution_count": null,
   "metadata": {},
   "outputs": [],
   "source": [
    "developed = gpd.overlay(zonas_amm, clc, how='intersection')"
   ]
  },
  {
   "cell_type": "code",
   "execution_count": null,
   "metadata": {},
   "outputs": [],
   "source": [
    "developed['DEVELOPED_AREA'] = developed['geometry'].area/10000"
   ]
  },
  {
   "cell_type": "code",
   "execution_count": null,
   "metadata": {},
   "outputs": [],
   "source": [
    "developed_area = developed.groupby('ZT1259').sum()[['DEVELOPED_AREA']]"
   ]
  },
  {
   "cell_type": "code",
   "execution_count": null,
   "metadata": {},
   "outputs": [],
   "source": [
    "developed_area.reset_index(inplace=True)"
   ]
  },
  {
   "cell_type": "code",
   "execution_count": null,
   "metadata": {},
   "outputs": [],
   "source": [
    "zonas_usos_poblacion"
   ]
  },
  {
   "cell_type": "code",
   "execution_count": null,
   "metadata": {},
   "outputs": [],
   "source": [
    "zonas_usos_poblacion.fillna(0,inplace=True)"
   ]
  },
  {
   "cell_type": "code",
   "execution_count": null,
   "metadata": {},
   "outputs": [],
   "source": [
    "'''\n",
    "wm = lambda x: np.average(x, weights=poblacion.loc[x.index, \"Población_2017\"])\n",
    "\n",
    "wmeans1 = poblacion.groupby([\"ZT1259\"]).agg(Edad_Media_2017=(\"Edad media de la población_2017\", wm))\n",
    "wmeans2 = poblacion.groupby([\"ZT1259\"]).agg(Jovenes_2017=(\"Porcentaje de población menor de 18 años_2017\", wm))\n",
    "wmeans3 = poblacion.groupby([\"ZT1259\"]).agg(Mayores_2017=(\"Porcentaje de población de 65 y más años_2017\", wm))\n",
    "'''                                  \n",
    "#FALTA HACER LA WEIGHTED MEAN DE EDAD"
   ]
  },
  {
   "cell_type": "code",
   "execution_count": null,
   "metadata": {},
   "outputs": [],
   "source": [
    "developed_area"
   ]
  },
  {
   "cell_type": "code",
   "execution_count": null,
   "metadata": {},
   "outputs": [],
   "source": [
    "zonas_usos_poblacion"
   ]
  },
  {
   "cell_type": "code",
   "execution_count": null,
   "metadata": {},
   "outputs": [],
   "source": [
    "zonas_data = pd.merge(zonas_amm,zonas_usos_poblacion,on='ZT1259',how='left')"
   ]
  },
  {
   "cell_type": "code",
   "execution_count": null,
   "metadata": {},
   "outputs": [],
   "source": [
    "zonas_data = pd.merge(zonas_data,developed_area,on='ZT1259',how='left')"
   ]
  },
  {
   "cell_type": "code",
   "execution_count": null,
   "metadata": {},
   "outputs": [],
   "source": [
    "zonas_data"
   ]
  },
  {
   "cell_type": "code",
   "execution_count": null,
   "metadata": {},
   "outputs": [],
   "source": []
  },
  {
   "cell_type": "code",
   "execution_count": null,
   "metadata": {},
   "outputs": [],
   "source": [
    "zonas_data['POBLACION_TOTAL'].fillna(0,inplace=True)\n",
    "zonas_data['DEVELOPED_AREA'].fillna(0,inplace=True)"
   ]
  },
  {
   "cell_type": "code",
   "execution_count": null,
   "metadata": {},
   "outputs": [],
   "source": [
    "zonas_data.plot(column='DEVELOPED_AREA')"
   ]
  },
  {
   "cell_type": "code",
   "execution_count": null,
   "metadata": {},
   "outputs": [],
   "source": [
    "zonas_data['DENSIDAD'] =zonas_data['POBLACION_TOTAL'] / zonas_data['DEVELOPED_AREA']"
   ]
  },
  {
   "cell_type": "code",
   "execution_count": null,
   "metadata": {},
   "outputs": [],
   "source": [
    "zonas_data['DENSIDAD'].fillna(0,inplace=True)"
   ]
  },
  {
   "cell_type": "code",
   "execution_count": null,
   "metadata": {},
   "outputs": [],
   "source": [
    "def simpson_diversity(row,fields):\n",
    "    all_species = sum([row[a] for a in fields])\n",
    "    diversity = 1 - sum([(row[a]/all_species)**2 for a in fields if row[a]!=0])\n",
    "    row['DIVERSIDAD'] = diversity\n",
    "    return row"
   ]
  },
  {
   "cell_type": "code",
   "execution_count": null,
   "metadata": {},
   "outputs": [],
   "source": [
    "uses = ['SC','SE','SG','SK','SP','SR','ST','SV','SY']"
   ]
  },
  {
   "cell_type": "code",
   "execution_count": null,
   "metadata": {},
   "outputs": [],
   "source": [
    "for a in uses:\n",
    "    zonas_data[a].fillna(0,inplace=True)"
   ]
  },
  {
   "cell_type": "code",
   "execution_count": null,
   "metadata": {},
   "outputs": [],
   "source": [
    "zonas_data = zonas_data.apply(lambda row:simpson_diversity(row,uses),axis=1)"
   ]
  },
  {
   "cell_type": "code",
   "execution_count": null,
   "metadata": {},
   "outputs": [],
   "source": [
    "zonas_data.loc[zonas_data['DIVERSIDAD']==1,'DIVERSIDAD'] = 0"
   ]
  },
  {
   "cell_type": "code",
   "execution_count": null,
   "metadata": {},
   "outputs": [],
   "source": [
    "zonas_data.to_file(r\"C:\\Users\\ManuBenito\\Documents\\Walknet-DataLake\\sources\\zonas_data.gpkg\",driver='GPKG')"
   ]
  },
  {
   "cell_type": "code",
   "execution_count": null,
   "metadata": {},
   "outputs": [],
   "source": [
    "zonas_data.columns"
   ]
  },
  {
   "cell_type": "code",
   "execution_count": null,
   "metadata": {},
   "outputs": [],
   "source": []
  },
  {
   "cell_type": "code",
   "execution_count": null,
   "metadata": {},
   "outputs": [],
   "source": [
    "zonas_data.columns"
   ]
  },
  {
   "cell_type": "code",
   "execution_count": null,
   "metadata": {},
   "outputs": [],
   "source": [
    "zonas_data = zonas_data[['ZT1259',\n",
    "       'NA', 'NB', 'NC', 'NE', 'NG', 'NI', 'NJ', 'NK', 'NM', 'NO',\n",
    "       'NP', 'NR', 'NT', 'NV', 'NY', 'NZ', 'SA', 'SB', 'SC', 'SE', 'SG', 'SI',\n",
    "       'SJ', 'SK', 'SM', 'SO', 'SP', 'SR', 'ST', 'SV', 'SY', 'SZ', 'SCONS',\n",
    "       'POBLACION_TOTAL', 'RENTA_TOTAL', 'MENORES_TOTAL', 'MAYORES_TOTAL',\n",
    "       'RENTA_MEDIA', 'PROP_MAYORES', 'PROP_MENORES', 'DEVELOPED_AREA',\n",
    "       'DENSIDAD', 'DIVERSIDAD']]"
   ]
  },
  {
   "cell_type": "code",
   "execution_count": null,
   "metadata": {},
   "outputs": [],
   "source": [
    "data_zonas = pd.merge(data,zonas_data.rename(columns={c:f'{c}_origin' for c in zonas_data.columns if c !='ZT1259'}),left_on='VORIZT1259',right_on='ZT1259',how='left')\n",
    "data_zonas = pd.merge(data_zonas,zonas_data.rename(columns={c:f'{c}_destination' for c in zonas_data.columns if c !='ZT1259'}),left_on='VDESZT1259',right_on='ZT1259',how='left')"
   ]
  },
  {
   "cell_type": "code",
   "execution_count": null,
   "metadata": {},
   "outputs": [],
   "source": [
    "for c in data_zonas.columns:\n",
    "    print(c)"
   ]
  },
  {
   "cell_type": "code",
   "execution_count": null,
   "metadata": {},
   "outputs": [],
   "source": [
    "sns.displot(data_zonas.loc[data_zonas[\"DISTANCIA_VIAJE\"]<5], x=\"DIVERSIDAD\", hue=\"MODO_PRIORITARIO\", kind=\"kde\", multiple=\"stack\")"
   ]
  },
  {
   "cell_type": "code",
   "execution_count": null,
   "metadata": {},
   "outputs": [],
   "source": [
    "sns.displot(data_zonas.loc[(data_zonas[\"DISTANCIA_VIAJE\"]<5)&(data_zonas[\"DENSIDAD\"]<1000)], x=\"DENSIDAD\", hue=\"MODO_PRIORITARIO\", kind=\"kde\", multiple=\"stack\")"
   ]
  },
  {
   "cell_type": "code",
   "execution_count": null,
   "metadata": {},
   "outputs": [],
   "source": [
    "sns.displot(data_zonas.loc[data_zonas[\"DISTANCIA_VIAJE\"]<5], x=\"DIVERSIDAD\", hue=\"MOTIVO_PRIORITARIO\", kind=\"kde\", multiple=\"stack\")"
   ]
  },
  {
   "cell_type": "code",
   "execution_count": null,
   "metadata": {},
   "outputs": [],
   "source": [
    "sns.displot(data_zonas.loc[(data_zonas[\"DISTANCIA_VIAJE\"]<5)&(data_zonas[\"DENSIDAD\"]<1000)], x=\"DENSIDAD\", hue=\"MOTIVO_PRIORITARIO\", kind=\"kde\", multiple=\"stack\")"
   ]
  },
  {
   "cell_type": "code",
   "execution_count": null,
   "metadata": {},
   "outputs": [],
   "source": [
    "ped = data_zonas.loc[data_zonas['MODO_PRIORITARIO'] =='Andando/pie']"
   ]
  },
  {
   "cell_type": "code",
   "execution_count": null,
   "metadata": {},
   "outputs": [],
   "source": [
    "sns.displot(ped.loc[(ped[\"DISTANCIA_VIAJE\"]<5)&(ped[\"DENSIDAD\"]<1000)], x=\"DENSIDAD\", hue=\"MOTIVO_PRIORITARIO\", kind=\"kde\", multiple=\"stack\")"
   ]
  },
  {
   "cell_type": "code",
   "execution_count": null,
   "metadata": {},
   "outputs": [],
   "source": [
    "sns.displot(ped.loc[ped[\"DISTANCIA_VIAJE\"]<5], x=\"DIVERSIDAD\", hue=\"MOTIVO_PRIORITARIO\", kind=\"kde\", multiple=\"stack\")"
   ]
  },
  {
   "cell_type": "code",
   "execution_count": null,
   "metadata": {},
   "outputs": [],
   "source": [
    "ped.columns"
   ]
  },
  {
   "cell_type": "code",
   "execution_count": null,
   "metadata": {},
   "outputs": [],
   "source": [
    "sns.displot(ped.loc[(ped[\"DISTANCIA_VIAJE\"]<5)&(ped[\"DENSIDAD\"]<1000)], x=\"DENSIDAD\", hue=\"MOTIVO_PRIORITARIO\", kind=\"kde\", multiple=\"stack\")"
   ]
  },
  {
   "cell_type": "code",
   "execution_count": null,
   "metadata": {},
   "outputs": [],
   "source": [
    "sns.displot(data_zonas, x=\"RENTA_MEDIA\", hue=\"MODO_PRIORITARIO\", kind=\"kde\", multiple=\"stack\")"
   ]
  },
  {
   "cell_type": "code",
   "execution_count": null,
   "metadata": {},
   "outputs": [],
   "source": [
    "sns.displot(data_zonas, x=\"PROP_MENORES\", hue=\"MODO_PRIORITARIO\", kind=\"kde\", multiple=\"stack\")"
   ]
  },
  {
   "cell_type": "code",
   "execution_count": null,
   "metadata": {},
   "outputs": [],
   "source": [
    "d = {'Coche conductor particular': 'Coche',\n",
    " 'Andando/pie': 'Andando',\n",
    " 'Autobus interurbano': 'Autobus',\n",
    " 'Autobus discrecional': 'Autobus',\n",
    " 'Coche pasajero particular': 'Coche',\n",
    " 0: 'S/D',\n",
    " 'Otros': 'S/D',\n",
    " 'Metro': 'Metro/Ferrocarril',\n",
    " 'Autobus urbano otro municipio': 'Autobus',\n",
    " 'Renfe Cercanías': 'Metro/Ferrocarril',\n",
    " 'Coche conductor empresa': 'Coche',\n",
    " 'Moto/ciclomotor particular': 'Moto',\n",
    " 'Bicicleta particular': 'Bicicleta',\n",
    " 'Coche pasajero empresa': 'Coche',\n",
    " 'Autobus urbano Madrid EMT': 'Autobus',\n",
    " 'Resto renfe': 'Metro/Ferrocarril',\n",
    " 'Taxi': 'Coche',\n",
    " 'Metro ligero/tranvía': 'Metro/Ferrocarril',\n",
    " 'Coche pasajero alquiler con conductor': 'Coche',\n",
    " 'Autobus de largo recorrido': 'Autobus',\n",
    " 'Coche conductor alquiler sin conductor': 'Coche',\n",
    " 'Moto/ciclomotor empresa': 'Moto',\n",
    " 'Bicicleta publica': 'Bicicleta',\n",
    " 'Bicicleta empresa': 'Bicicleta',\n",
    " 'Moto/ciclomotor publica': 'Moto'}"
   ]
  },
  {
   "cell_type": "code",
   "execution_count": null,
   "metadata": {},
   "outputs": [],
   "source": [
    "data_zonas['MODO_SIMPLIFICADO'] = data_zonas['MODO_PRIORITARIO'].replace(d)"
   ]
  },
  {
   "cell_type": "code",
   "execution_count": null,
   "metadata": {},
   "outputs": [],
   "source": [
    "m ={'Trabajo': 'Trabajo',\n",
    " 'Compras': 'Compras',\n",
    " 'Ocio': 'Deporte/ Paseo / Ocio',\n",
    " 'Asunto personal': 'Otros',\n",
    " 'Estudio': 'Estudio',\n",
    " 'Otros': 'Otros',\n",
    " 0: 'Otros',\n",
    " 'Gestión de trabajo': 'Trabajo',\n",
    " 'Deporte/ dar un paseo': 'Deporte/ Paseo / Ocio',\n",
    " 'Médico': 'Cuidados',\n",
    " 'Casa': 'Otros',\n",
    " 'Otro domicilio': 'Otros',\n",
    " 'Acompañamiento a otra persona': 'Cuidados'}"
   ]
  },
  {
   "cell_type": "code",
   "execution_count": null,
   "metadata": {},
   "outputs": [],
   "source": [
    "data_zonas['MOTIVO_SIMPLIFICADO'] = data_zonas['MOTIVO_PRIORITARIO'].replace(m)"
   ]
  },
  {
   "cell_type": "code",
   "execution_count": null,
   "metadata": {},
   "outputs": [],
   "source": [
    "sns.displot(data_zonas.loc[data_zonas['DISTANCIA_VIAJE']<5], x=\"DIVERSIDAD\", hue=\"MOTIVO_SIMPLIFICADO\", kind=\"kde\", multiple=\"stack\")"
   ]
  },
  {
   "cell_type": "code",
   "execution_count": null,
   "metadata": {},
   "outputs": [],
   "source": [
    "df = pd.DataFrame({'value': np.random.randint(1, 80, 20)}) \n",
    "df['group'] = pd.cut(df.value,\n",
    "                     bins=[0, 5, 31, 51, 80],\n",
    "                     labels=[\"very short\", \"short\", \"long\", \"very long\"]"
   ]
  },
  {
   "cell_type": "code",
   "execution_count": null,
   "metadata": {},
   "outputs": [],
   "source": []
  },
  {
   "cell_type": "code",
   "execution_count": null,
   "metadata": {},
   "outputs": [],
   "source": [
    "l = list(itertools.combinations(zonas.keys(),2))"
   ]
  },
  {
   "cell_type": "code",
   "execution_count": null,
   "metadata": {},
   "outputs": [],
   "source": [
    "l = [\"/\".join(list(t)) for t in l]\n",
    "p = [\"/\".join([m,m])for m in zonas.keys()]"
   ]
  },
  {
   "cell_type": "code",
   "execution_count": null,
   "metadata": {},
   "outputs": [],
   "source": [
    "p"
   ]
  },
  {
   "cell_type": "code",
   "execution_count": null,
   "metadata": {},
   "outputs": [],
   "source": [
    "lineas = {}\n",
    "puntos = {}\n",
    "for el in l:\n",
    "    l1 = el.split(\"/\")[0]\n",
    "    l2 = el.split(\"/\")[1]\n",
    "    line = LineString([zonas[l1],zonas[l2]])\n",
    "    lineas.update({el:line})\n",
    "for el in p:\n",
    "    p0 = el.split(\"/\")[0]\n",
    "    point = zonas[p0]\n",
    "    puntos.update({el:point})"
   ]
  },
  {
   "cell_type": "code",
   "execution_count": null,
   "metadata": {},
   "outputs": [],
   "source": [
    "z = pd.DataFrame.from_dict(lineas,orient='index')\n",
    "x = pd.DataFrame.from_dict(puntos,orient='index')"
   ]
  },
  {
   "cell_type": "code",
   "execution_count": null,
   "metadata": {},
   "outputs": [],
   "source": [
    "d['MODO_PRIORITARIO'].unique()"
   ]
  },
  {
   "cell_type": "code",
   "execution_count": null,
   "metadata": {},
   "outputs": [],
   "source": [
    "#activos = d.loc[d['MODO_PRIORITARIO'].isin([\"'24. Andando/pie '\"])]\n",
    "#activos = d.loc[d['MODO_PRIORITARIO'].isin([\"'24. Andando/pie '\",\"'21. Bicicleta publica'\",\"'22. Bicicleta empresa'\",\"'20. Bicicleta particular'\"])]\n",
    "#activos = d.loc[d['MODO_PRIORITARIO'].isin([\"'11. Coche conductor particular'\",\"'14. Coche pasajero particular'\",\"'12. Coche conductor empresa'\",\"'10. Taxi '\",\"'17. Moto/ciclomotor particular'\",\"'10. Taxi '\",\"'16. Coche pasajero alquiler con conductor'\",\"'13. Coche conductor alquiler sin conductor'\",\"'19. Moto/ciclomotor empresa'\",\"'18. Moto/ciclomotor publica'\"])]\n",
    "activos = d.loc[d['MODO_PRIORITARIO'].isin([\"'2. Autobus interurbano '\", \"'8. Autobus discrecional '\",\"'3. Autobus urbano otro municipio '\",\"'6. Autobus urbano Madrid EMT '\",\"'9. Autobus de largo recorrido '\"])]\n",
    "#activos = d.loc[d['MODO_PRIORITARIO'].isin([\"'4. Metro '\",\"'1. Renfe Cercanías '\",\"'7. Resto renfe '\",\"'5. Metro ligero/tranvía '\"])]"
   ]
  },
  {
   "cell_type": "code",
   "execution_count": null,
   "metadata": {},
   "outputs": [],
   "source": [
    "co = activos.groupby(['LINEA']).count()\n",
    "co['COUNT'] = co['ID_HOGAR']\n",
    "co = co[['COUNT']]\n",
    "dis = activos.groupby(['LINEA']).mean()\n",
    "dis = dis[['DISTANCIA_VIAJE']]"
   ]
  },
  {
   "cell_type": "code",
   "execution_count": null,
   "metadata": {},
   "outputs": [],
   "source": []
  },
  {
   "cell_type": "code",
   "execution_count": null,
   "metadata": {},
   "outputs": [],
   "source": [
    "#co.reset_index(inplace=True)\n",
    "#dis.reset_index(inplace=True)"
   ]
  },
  {
   "cell_type": "code",
   "execution_count": null,
   "metadata": {},
   "outputs": [],
   "source": [
    "z['LINEA']=z.index\n",
    "z['geometry'] = z[0]\n",
    "#z.reset_index(inplace=True)\n",
    "z=z[['LINEA','geometry']]\n",
    "x['LINEA']=x.index\n",
    "x['geometry'] = x[0]\n",
    "#x.reset_index(inplace=True)\n",
    "x=x[['LINEA','geometry']]"
   ]
  },
  {
   "cell_type": "code",
   "execution_count": null,
   "metadata": {},
   "outputs": [],
   "source": [
    "#lfin = pd.concat([z,co,dis],axis=1)\n",
    "#pfin = pd.concat([x,co,dis],axis=1)"
   ]
  },
  {
   "cell_type": "code",
   "execution_count": null,
   "metadata": {},
   "outputs": [],
   "source": [
    "lfin = pd.merge(z,co,left_index=True,right_index=True)\n",
    "lfin = pd.merge(lfin,dis,left_index=True,right_index=True)"
   ]
  },
  {
   "cell_type": "code",
   "execution_count": null,
   "metadata": {},
   "outputs": [],
   "source": [
    "pfin = pd.merge(x,co,left_index=True,right_index=True)\n",
    "pfin = pd.merge(pfin,dis,left_index=True,right_index=True)"
   ]
  },
  {
   "cell_type": "code",
   "execution_count": null,
   "metadata": {},
   "outputs": [],
   "source": [
    "geo_lfin = gpd.GeoDataFrame(lfin,geometry='geometry',crs='epsg:3857')\n",
    "geo_pfin = gpd.GeoDataFrame(pfin,geometry='geometry',crs='epsg:3857')"
   ]
  },
  {
   "cell_type": "code",
   "execution_count": null,
   "metadata": {},
   "outputs": [],
   "source": [
    "zonas = gpd.read_file(\"C:\\\\Users\\\\manub\\\\DATA\\\\00-EXTERNO\\\\MANU\\\\ZonificacionZT1259-shp\\\\ZonificacionZT1259.shp\")\n",
    "#Visualizamos el dataset\n",
    "fig, ax = plt.subplots(figsize =(10,10))\n",
    "zonas.plot(ax=ax,color='black',linewidth=1)\n",
    "geo_lfin.plot(ax=ax,color='aqua',linewidth=geo_lfin['COUNT']/20,scheme='quantiles',zorder=1)\n",
    "geo_pfin.plot(ax=ax,color='white',markersize=geo_pfin['COUNT']/5,zorder=2)\n",
    "#plt.grid(True,color='pink', linestyle='-', linewidth=0.7)\n",
    "ax.axis(\"off\")\n",
    "plt.tight_layout()\n",
    "plt.savefig(\"C:\\\\Users\\\\manub\\\\DATA\\\\00-EXTERNO\\\\MANU\\\\bus.jpeg\",dpi=300)\n",
    "plt.show();\n",
    "plt.clf()\n",
    "\n",
    "#gold,lawngreen,aqua,deeppink"
   ]
  },
  {
   "cell_type": "code",
   "execution_count": null,
   "metadata": {},
   "outputs": [],
   "source": []
  }
 ],
 "metadata": {
  "kernelspec": {
   "display_name": "Python 3",
   "language": "python",
   "name": "python3"
  },
  "language_info": {
   "codemirror_mode": {
    "name": "ipython",
    "version": 3
   },
   "file_extension": ".py",
   "mimetype": "text/x-python",
   "name": "python",
   "nbconvert_exporter": "python",
   "pygments_lexer": "ipython3",
   "version": "3.10.6"
  },
  "vscode": {
   "interpreter": {
    "hash": "824dd75ae52533d501c48caddb3c0ff1ec19c5804a5e404fe3c18da134102c64"
   }
  }
 },
 "nbformat": 4,
 "nbformat_minor": 4
}
